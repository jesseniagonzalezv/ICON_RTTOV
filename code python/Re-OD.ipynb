{
 "cells": [
  {
   "cell_type": "code",
   "execution_count": 5,
   "metadata": {},
   "outputs": [
    {
     "name": "stdout",
     "output_type": "stream",
     "text": [
      "/home/jvillarreal/test_data_analysis\n",
      "/bin/bash: Zeile 0: cd: /work/bb1143/b380473/icon_hdcp2_cosp/: Datei oder Verzeichnis nicht gefunden\n",
      "/home/jvillarreal/test_data_analysis\n"
     ]
    }
   ],
   "source": [
    "!pwd\n",
    "!cd /work/bb1143/b380473/icon_hdcp2_cosp/ \n",
    "!pwd"
   ]
  },
  {
   "cell_type": "code",
   "execution_count": 7,
   "metadata": {},
   "outputs": [
    {
     "name": "stdout",
     "output_type": "stream",
     "text": [
      "netcdf \\3d_coarse_day_ll_DOM03_2013_T08_cot_reff {\n",
      "dimensions:\n",
      "\tlon = 589 ;\n",
      "\tlat = 637 ;\n",
      "\tlev = 150 ;\n",
      "variables:\n",
      "\tdouble lon(lon) ;\n",
      "\t\tlon:units = \"degrees_east\" ;\n",
      "\t\tlon:long_name = \"lon\" ;\n",
      "\t\tlon:axis = \"X\" ;\n",
      "\tdouble lat(lat) ;\n",
      "\t\tlat:units = \"degrees_north\" ;\n",
      "\t\tlat:long_name = \"lat\" ;\n",
      "\t\tlat:axis = \"Y\" ;\n",
      "\tfloat cot_2013(lat, lon) ;\n",
      "\t\tcot_2013:_FillValue = 1.e+32f ;\n",
      "\t\tcot_2013:long_name = \"Cloud optical thickness\" ;\n",
      "\tdouble lev(lev) ;\n",
      "\t\tlev:units = \"Normalized height\" ;\n",
      "\t\tlev:long_name = \"lev\" ;\n",
      "\t\tlev:axis = \"Z\" ;\n",
      "\tfloat reff_2013(lev, lat, lon) ;\n",
      "\t\treff_2013:units = \"meter\" ;\n",
      "\t\treff_2013:_FillValue = 1.e+32f ;\n",
      "\t\treff_2013:long_name = \"Cloud droplet effective radius level 2013\" ;\n",
      "}\n"
     ]
    }
   ],
   "source": [
    "!ncdump -h 3d_coarse_day_ll_DOM03_2013_T08_cot_reff.nc"
   ]
  },
  {
   "cell_type": "code",
   "execution_count": 9,
   "metadata": {},
   "outputs": [
    {
     "data": {
      "text/plain": [
       "<bound method Mapping.values of <xarray.Dataset>\n",
       "Dimensions:    (lat: 637, lev: 150, lon: 589)\n",
       "Coordinates:\n",
       "  * lon        (lon) float64 4.5 4.517 4.534 4.551 ... 14.45 14.46 14.48 14.5\n",
       "  * lat        (lat) float64 47.5 47.51 47.52 47.53 ... 54.46 54.47 54.48 54.5\n",
       "  * lev        (lev) float64 1.0 2.0 3.0 4.0 5.0 ... 147.0 148.0 149.0 150.0\n",
       "Data variables:\n",
       "    cot_2013   (lat, lon) float32 ...\n",
       "    reff_2013  (lev, lat, lon) float32 ...>"
      ]
     },
     "execution_count": 9,
     "metadata": {},
     "output_type": "execute_result"
    }
   ],
   "source": [
    "import os\n",
    "import numpy as np\n",
    "import xarray as xr\n",
    "import cartopy.crs as ccrs\n",
    "import matplotlib.pyplot as plt\n",
    "\n",
    "#-- input file rectilinear_grid_3d.nc from the NCL User Guide\n",
    "#-- is available in the PyNGL installation\n",
    "fname = '3d_coarse_day_ll_DOM03_2013_T08_cot_reff.nc'\n",
    "\n",
    "#-- open file\n",
    "ds = xr.open_dataset(fname)\n",
    "\n",
    "\n",
    "ds.values"
   ]
  },
  {
   "cell_type": "code",
   "execution_count": 11,
   "metadata": {},
   "outputs": [
    {
     "data": {
      "text/plain": [
       "(637, 589)"
      ]
     },
     "execution_count": 11,
     "metadata": {},
     "output_type": "execute_result"
    }
   ],
   "source": [
    "cot =ds['cot_2013'].values\n",
    "cot.shape"
   ]
  },
  {
   "cell_type": "code",
   "execution_count": 13,
   "metadata": {},
   "outputs": [
    {
     "data": {
      "text/plain": [
       "(150, 637, 589)"
      ]
     },
     "execution_count": 13,
     "metadata": {},
     "output_type": "execute_result"
    }
   ],
   "source": [
    "ds['reff_2013'].shape\n"
   ]
  },
  {
   "cell_type": "code",
   "execution_count": null,
   "metadata": {},
   "outputs": [],
   "source": []
  }
 ],
 "metadata": {
  "kernelspec": {
   "display_name": "Python 3",
   "language": "python",
   "name": "python3"
  },
  "language_info": {
   "codemirror_mode": {
    "name": "ipython",
    "version": 3
   },
   "file_extension": ".py",
   "mimetype": "text/x-python",
   "name": "python",
   "nbconvert_exporter": "python",
   "pygments_lexer": "ipython3",
   "version": "3.8.3"
  }
 },
 "nbformat": 4,
 "nbformat_minor": 4
}
