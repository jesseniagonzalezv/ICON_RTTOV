{
 "cells": [
  {
   "cell_type": "markdown",
   "metadata": {},
   "source": [
    "## Test simulator "
   ]
  },
  {
   "cell_type": "code",
   "execution_count": 140,
   "metadata": {},
   "outputs": [
    {
     "name": "stdout",
     "output_type": "stream",
     "text": [
      "/home/jvillarreal/rttov13\n"
     ]
    }
   ],
   "source": [
    "!pwd"
   ]
  },
  {
   "cell_type": "code",
   "execution_count": 141,
   "metadata": {},
   "outputs": [
    {
     "name": "stdout",
     "output_type": "stream",
     "text": [
      "/home/jvillarreal\n"
     ]
    }
   ],
   "source": [
    "%cd"
   ]
  },
  {
   "cell_type": "code",
   "execution_count": 142,
   "metadata": {},
   "outputs": [
    {
     "name": "stdout",
     "output_type": "stream",
     "text": [
      "/home/jvillarreal/rttov13\n"
     ]
    }
   ],
   "source": [
    "%cd rttov13"
   ]
  },
  {
   "cell_type": "code",
   "execution_count": 143,
   "metadata": {},
   "outputs": [
    {
     "name": "stdout",
     "output_type": "stream",
     "text": [
      "/home/jvillarreal/rttov13/src/test\n"
     ]
    }
   ],
   "source": [
    "%cd src/test/"
   ]
  },
  {
   "cell_type": "code",
   "execution_count": 145,
   "metadata": {},
   "outputs": [
    {
     "name": "stdout",
     "output_type": "stream",
     "text": [
      "gfortran -I../..//mod -I../..//include -fPIC -O3 -fopenmp -ffree-line-length-none -c example_fwd.F90 -o ../..//obj/example_fwd.o\n",
      "gfortran -o ../..//bin/example_fwd.exe \\\n",
      "../..//obj/example_fwd.o \\\n",
      "-L../..//lib -lrttov13_brdf_atlas -lrttov13_emis_atlas -lrttov13_mw_scatt -lrttov13_other -lrttov13_coef_io -lrttov13_hdf -lrttov13_parallel -lrttov13_main  \\\n",
      "-L/opt/netcdf/4.6.1_gfortran/lib -lnetcdff -L/usr/lib/x86_64-linux-gnu/hdf5/serial/lib -lhdf5hl_fortran -lhdf5_hl -lhdf5_fortran -lhdf5 -lz -fopenmp \n"
     ]
    }
   ],
   "source": [
    "#example_fwd.F90 example_fwd.exe\n",
    "#example_htfrtc_fwd.F90  example_htfrtc_fwd.exe\n",
    "#src/test/example_htfrtc_fwd.F90   bin/example_htfrtc_fwd.exe\n",
    "\n",
    "!make -f Makefile_own_data"
   ]
  },
  {
   "cell_type": "code",
   "execution_count": 128,
   "metadata": {},
   "outputs": [],
   "source": [
    "#!gfortran -c src/test/example_fwd_own_data.F90 -I../mod -I../include\n",
    "#!gfortran -c src/test/example_fwd_own_data.F90 -I ../../mod -I../../include -o bin/example_fwd_own_data.exe  example_fwd_own_data.o  "
   ]
  },
  {
   "cell_type": "code",
   "execution_count": 12,
   "metadata": {},
   "outputs": [
    {
     "name": "stdout",
     "output_type": "stream",
     "text": [
      "/home/jvillarreal\n"
     ]
    }
   ],
   "source": [
    "%cd"
   ]
  },
  {
   "cell_type": "code",
   "execution_count": 13,
   "metadata": {},
   "outputs": [
    {
     "name": "stdout",
     "output_type": "stream",
     "text": [
      "/home/jvillarreal/rttov13/rttov_test\n"
     ]
    }
   ],
   "source": [
    "%cd rttov13/rttov_test"
   ]
  },
  {
   "cell_type": "markdown",
   "metadata": {},
   "source": [
    "## with my own data"
   ]
  },
  {
   "cell_type": "code",
   "execution_count": 19,
   "metadata": {},
   "outputs": [
    {
     "name": "stdout",
     "output_type": "stream",
     "text": [
      " \n",
      " \n",
      " Test forward \n",
      " \n",
      "Coef filename:      rtcoef_noaa_19_avhrr_o3co2.dat\n",
      "Input profile file: profile_hdcp2.dat\n",
      "Number of profiles: 1\n",
      "Number of levels:   51\n",
      "Do solar:           1\n",
      "Number of channels: 6\n",
      "Channel list:       1 2 3 4 5 6\n",
      "Number of threads:  1\n",
      " enter path of coefficient file\n",
      " enter path of file containing profile data\n",
      " enter number of profiles\n",
      " enter number of profile levels\n",
      " turn on solar simulations? (0=no, 1=yes)\n",
      " enter number of channels to simulate per profile\n",
      " enter space-separated channel list\n",
      " enter number of threads to use\n",
      "At line 298 of file example_fwd_own_data.F90 (unit = 20, file = 'profile_hdcp2.dat')\n",
      "Fortran runtime error: Bad real number in item 3 of list input\n",
      "\n",
      "Error termination. Backtrace:\n",
      "#0  0x7fdabec648b0 in ???\n",
      "#1  0x7fdabec65395 in ???\n",
      "#2  0x7fdabec65b1a in ???\n",
      "#3  0x7fdabee54f28 in ???\n",
      "#4  0x7fdabee5732d in ???\n",
      "#5  0x7fdabee588f9 in ???\n",
      "#6  0x56516f452a54 in ???\n",
      "#7  0x56516f45193e in ???\n",
      "#8  0x7fdabe87709a in __libc_start_main\n",
      "\tat ../csu/libc-start.c:308\n",
      "#9  0x56516f451979 in ???\n",
      "#10  0xffffffffffffffff in ???\n",
      " \n",
      "TEST FAILED\n",
      " \n"
     ]
    }
   ],
   "source": [
    "!./run_example_fwd_own_data.sh ARCH=gfortran "
   ]
  },
  {
   "cell_type": "markdown",
   "metadata": {},
   "source": [
    "### other test"
   ]
  },
  {
   "cell_type": "code",
   "execution_count": 149,
   "metadata": {},
   "outputs": [
    {
     "name": "stdout",
     "output_type": "stream",
     "text": [
      " \n",
      " \n",
      " Test forward \n",
      " \n",
      "Coef filename:      rtcoef_noaa_19_avhrr_o3co2.dat\n",
      "Input profile file: prof.dat\n",
      "Number of profiles: 1\n",
      "Number of levels:   51\n",
      "Do solar:           1\n",
      "Number of channels: 6\n",
      "Channel list:       1 2 3 4 5 6\n",
      "Number of threads:  1\n",
      " enter path of coefficient file\n",
      " enter path of file containing profile data\n",
      " enter number of profiles\n",
      " enter number of profile levels\n",
      " turn on solar simulations? (0=no, 1=yes)\n",
      " enter number of channels to simulate per profile\n",
      " enter space-separated channel list\n",
      " enter number of threads to use\n",
      "\n",
      "Output is in the file ./test_example.1/output_example_fwd.dat.gfortran\n",
      " \n",
      "Diff file has zero size: TEST SUCCESSFUL\n",
      " \n",
      "\n"
     ]
    }
   ],
   "source": [
    "!./run_example_fwd.sh ARCH=gfortran "
   ]
  },
  {
   "cell_type": "code",
   "execution_count": 4,
   "metadata": {},
   "outputs": [
    {
     "name": "stdout",
     "output_type": "stream",
     "text": [
      "+ SESSION=test_rttov13\n",
      "+ OPTS=IGNORETINY=1 ARCH=gfortran\n",
      "+ WHAT=DIRECT=1 TL=1 AD=1 K=1\n",
      "+ CHECK=CHECK=1 TEST_REF=test_rttov13.2\n",
      "+ ./rttov_test.pl SESSION=test_rttov13 DIRECT=1 TL=1 AD=1 K=1 CHECK=1 TEST_REF=test_rttov13.2 ARCH=gfortran IGNORETINY=1 ARCH=gfortran --\n",
      "\n",
      "RTTOV: rttov13     \n",
      "By:    jvillarreal@poorga1 \n",
      "On:    Linux poorga1 4.19.0-13-amd64 #1 SMP Debian 4.19.160-2 (2020-11-28) x86_64 GNU/Linux\n",
      "With:  gfortran\n",
      "Start: 17/02/2021 17:43:05\n",
      "                    +--------------------------------------------------------------------------------------------------------- number of \u001b[35mC\u001b[0mhannels\n",
      "                    |     +--------------------------------------------------------------------------------------------------- number of \u001b[35mP\u001b[0mrofiles\n",
      "                    |     |    +---------------------------------------------------------------------------------------------- number of \u001b[35mL\u001b[0mevels\n",
      "                    |     |    | +-------------------------------------------------------------------------------------------- calc\u001b[35mE\u001b[0mmis true\n",
      "                    |     |    | |+------------------------------------------------------------------------------------------- calc\u001b[35mR\u001b[0mefl true\n",
      "                    |     |    | ||+------------------------------------------------------------------------------------------ rttov-\u001b[35mS\u001b[0mcatt\n",
      "                    |     |    | |||+----------------------------------------------------------------------------------------- \u001b[35mA\u001b[0merosols\n",
      "                    |     |    | ||||+---------------------------------------------------------------------------------------- \u001b[35mC\u001b[0mlouds\n",
      "                    |     |    | |||||+--------------------------------------------------------------------------------------- \u001b[35mG\u001b[0mas units\n",
      "                    |     |    | ||||||                       +--------------------------------------------------------------- \u001b[35mM\u001b[0mw clw scheme\n",
      "                    |     |    | ||||||                       |+-------------------------------------------------------------- l\u001b[35mU\u001b[0msercfrac\n",
      "                    |     |    | ||||||                       ||+------------------------------------------------------------- \u001b[35mR\u001b[0madar\n",
      "                    |     |    | ||||||                       |||+------------------------------------------------------------ \u001b[35mI\u001b[0mR scattering model\n",
      "                    |     |    | ||||||                       ||||+----------------------------------------------------------- \u001b[35mV\u001b[0mIS scattering model\n",
      "                    |     |    | ||||||                       |||||+---------------------------------------------------------- do \u001b[35mC\u001b[0mheckinput\n",
      "                    |     |    | ||||||                       ||||||+--------------------------------------------------------- \u001b[35mA\u001b[0mpply reg limits\n",
      "                    |     |    | ||||||                       |||||||+-------------------------------------------------------- \u001b[35mR\u001b[0meg limit extrap\n",
      "                    |     |    | ||||||                       ||||||||+------------------------------------------------------- space \u001b[35mT\u001b[0mop\n",
      "                    |     |    | ||||||                       |||||||||+------------------------------------------------------ \u001b[35mG\u001b[0mradients wrt pressure\n",
      "                    |     |    | ||||||                       ||||||||||+----------------------------------------------------- \u001b[35mI\u001b[0mnterpolation mode\n",
      "                    |     |    | ||||||                       ||||||||||| +--------------------------------------------------- s\u001b[35mW\u001b[0mitchrad\n",
      "                    |     |    | ||||||                       ||||||||||| |+-------------------------------------------------- \u001b[35mP\u001b[0mlane-parallel\n",
      "                    |     |    | ||||||                       ||||||||||| ||+------------------------------------------------- \u001b[35mR\u001b[0mefraction\n",
      "                    |     |    | ||||||                       ||||||||||| |||+------------------------------------------------ \u001b[35mL\u001b[0min-in-tau for downwelling rad\n",
      "                    |     |    | ||||||                       ||||||||||| ||||+----------------------------------------------- use s2m%\u001b[35mT\u001b[0m in opdep calc\n",
      "                    |     |    | ||||||                       ||||||||||| |||||+---------------------------------------------- use s2m%\u001b[35mQ\u001b[0m\n",
      "                    |     |    | ||||||                       ||||||||||| ||||||+--------------------------------------------- \u001b[35mL\u001b[0mambertian surface\n",
      "                    |     |    | ||||||                       ||||||||||| |||||||+-------------------------------------------- lambertian \u001b[35mF\u001b[0mixed angle\n",
      "                    |     |    | ||||||                       ||||||||||| ||||||||+------------------------------------------- \u001b[35mS\u001b[0molar radiation\n",
      "                    |     |    | ||||||                       ||||||||||| |||||||||+------------------------------------------ \u001b[35mN\u001b[0mLTE correction\n",
      "                    |     |    | ||||||                       ||||||||||| ||||||||||+----------------------------------------- \u001b[35mF\u001b[0mastem version\n",
      "                    |     |    | ||||||                       ||||||||||| |||||||||||+---------------------------------------- \u001b[35mI\u001b[0mR sea emis model\n",
      "                    |     |    | ||||||                       ||||||||||| ||||||||||||+--------------------------------------- Solar \u001b[35mS\u001b[0mea brdf model\n",
      "                    |     |    | ||||||                       ||||||||||| |||||||||||||    +---------------------------------- scale TL/AD \u001b[35mI\u001b[0mncrements\n",
      "                    |     |    | ||||||                       ||||||||||| |||||||||||||    |    +----------------------------- scale TL/AD \u001b[35mO\u001b[0mutput\n",
      "                    |     |    | ||||||                       ||||||||||| |||||||||||||    |    | +--------------------------- number of \u001b[35mT\u001b[0mhreads\n",
      "                    |     |    | ||||||                       ||||||||||| |||||||||||||    |    | |    +---------------------- \u001b[35mM\u001b[0multiplicity\n",
      "                    |     |    | ||||||                       ||||||||||| |||||||||||||    |    | |    |    +----------------- call RTTOV \u001b[35mN\u001b[0m times\n",
      "                    |     |    | ||||||                       ||||||||||| |||||||||||||    |    | |    |    | +--------------- \u001b[35mC\u001b[0mhannel by channel\n",
      "                    |     |    | ||||||                       ||||||||||| |||||||||||||    |    | |    |    | |+-------------- \u001b[35mP\u001b[0mrofile by profile\n",
      "                    |     |    | ||||||                       ||||||||||| |||||||||||||    |    | |    |    | ||+------------- \u001b[35mT\u001b[0memp allocation\n",
      "                    |     |    | ||||||                       ||||||||||| |||||||||||||    |    | |    |    | |||+------------ \u001b[35mA\u001b[0mll coef channels read\n",
      "                    |     |    | ||||||                       ||||||||||| |||||||||||||    |    | |    |    | ||||+----------- \u001b[35mF\u001b[0mormat of extracted coefs\n",
      "                    |     |    | ||||||                       ||||||||||| |||||||||||||    |    | |    |    | |||||+---------- \u001b[35mI\u001b[0mgnore small values\n",
      "                    |     |    | ||||||                       ||||||||||| |||||||||||||    |    | |    |    | ||||||+--------- \u001b[35mD\u001b[0mirect\n",
      "                    |     |    | ||||||                       ||||||||||| |||||||||||||    |    | |    |    | |||||||+-------- \u001b[35mT\u001b[0mangent linear\n",
      "                    |     |    | ||||||                       ||||||||||| |||||||||||||    |    | |    |    | ||||||||+------- \u001b[35mA\u001b[0mdjoint\n",
      "                    |     |    | ||||||                       ||||||||||| |||||||||||||    |    | |    |    | |||||||||+------ \u001b[35mK\u001b[0m-matrix\n",
      "                    |     |    | ||||||                       ||||||||||| |||||||||||||    |    | |    |    | ||||||||||+----- \u001b[35mB\u001b[0mrute force k-matrix\n",
      "                    |     |    | ||||||                       ||||||||||| |||||||||||||    |    | |    |    | |||||||||||+---- \u001b[35mT\u001b[0mangent linear k-matrix\n",
      "                    |     |    | ||||||                       ||||||||||| |||||||||||||    |    | |    |    | ||||||||||||+--- \u001b[35mA\u001b[0mdjoint k-matrix\n",
      "                    |     |    | ||||||                       ||||||||||| |||||||||||||    |    | |    |    | |||||||||||||+-- \u001b[35mT\u001b[0maylor test\n",
      "     TEST_ID        C     P    L ERSACG         GASES         MURIVCARTGI WPRLTQLFSNFIS    I    O T    M    N CPTAFIDTAKBTAT  REAL TIME   USER TIME STATUS\n",
      "    amsre/301        72    6  54 X....2                       2..21X.XX.1 X.XXXX.X..622    1    1 0    1    1 .....XXXXX....     .       0.23        0.12 \u001b[32m  OK  \u001b[0m\n",
      "    amsua/301        90    6  54 X....2                       2..21X.XX.1 X.XXXX.X..622    1    1 0    1    1 .....XXXXX....     .       0.22        0.14 \u001b[32m  OK  \u001b[0m\n",
      "  amsua/321clw       90    6 101 X....2 clw                   2..21X.XX.1 X.XXXX.X..622    1    1 0    1    1 .....XXXXX....     .       0.36        0.26 \u001b[32m  OK  \u001b[0m\n",
      "    amsub/301        30    6  54 X....2                       2..21X.XX.1 X.XXXX.X..622    1    1 0    1    1 .....XXXXX....     .       0.13        0.06 \u001b[32m  OK  \u001b[0m\n",
      "     msu/301         24    6  54 X....2                       2..21X.XX.1 X.XXXX.X..622    1    1 0    1    1 .....XXXXX....     .       0.13        0.06 \u001b[32m  OK  \u001b[0m\n",
      "    ssmis/301       126    6  54 X....2                       2..21X.XX.1 X.XXXX.X..622    1    1 0    1    1 .....XXXXX....     .       0.29        0.21 \u001b[32m  OK  \u001b[0m\n",
      "    ssmis/321       126    6 101 X....2                       2..21X.XX.1 X.XXXX.X..622    1    1 0    1    1 .....XXXXX....     .       0.42        0.32 \u001b[32m  OK  \u001b[0m\n",
      "   windsat/301       96    6  54 X....2                       2..21X.XX.1 X.XXXX.X..622    1    1 0    1    1 .....XXXXX....     .       0.22        0.16 \u001b[32m  OK  \u001b[0m\n",
      "    hirs/517        114    6  54 X....2 co2 o3                2..21XXXX.1 X.XXXX.X..622    1    1 0    1    1 .....XXXXX....     .       0.38        0.26 \u001b[33m DIFF \u001b[0m\n",
      "\n",
      "\t\t    | ========== PROFILES_K(   1)%CFRACTION ==========\n",
      "\t\t    |\t\t\t\t\t\t\t\t 0\n",
      "\t\t    | test_rttov13.1.gfortran/hirs/517/out/k/profiles_k.txt: -0.265466E-009\n",
      "\t\t    | test_rttov13.2/hirs/517/out/k/profiles_k.txt\t: -0.265472E-009\n",
      "                    +-----------------------------------------------------------------------------------------\n",
      "\n",
      "    modis/401       216    6  54 XX...2 o3                    2..21X.XX.1 X.XXXX.XX.622    1    1 0    1    1 .....XXXXX....     .       0.69        0.56 \u001b[32m  OK  \u001b[0m\n",
      "   seviri/524        66    6 101 XX...2 co2 o3                2..21X.XX.1 X.XXXX.XX.622    1    1 0    1    1 .....XXXXX....     .       0.39        0.29 \u001b[32m  OK  \u001b[0m\n",
      "\n",
      "End: 17/02/2021 17:43:16\n",
      "\n",
      "Ran 11 tests, 1 = DIFF, 10 = OK\n"
     ]
    }
   ],
   "source": [
    "!./test_rttov13.sh ARCH=gfortran"
   ]
  },
  {
   "cell_type": "code",
   "execution_count": 8,
   "metadata": {},
   "outputs": [
    {
     "name": "stdout",
     "output_type": "stream",
     "text": [
      "\n",
      "RTTOV: rttov13     \n",
      "By:    jvillarreal@poorga1 \n",
      "On:    Linux poorga1 4.19.0-13-amd64 #1 SMP Debian 4.19.160-2 (2020-11-28) x86_64 GNU/Linux\n",
      "With:  gfortran\n",
      "Start: 16/02/2021 10:14:13\n",
      "                    +--------------------------------------------------------------------------------------------------------- number of \u001b[35mC\u001b[0mhannels\n",
      "                    |     +--------------------------------------------------------------------------------------------------- number of \u001b[35mP\u001b[0mrofiles\n",
      "                    |     |    +---------------------------------------------------------------------------------------------- number of \u001b[35mL\u001b[0mevels\n",
      "                    |     |    | +-------------------------------------------------------------------------------------------- calc\u001b[35mE\u001b[0mmis true\n",
      "                    |     |    | |+------------------------------------------------------------------------------------------- calc\u001b[35mR\u001b[0mefl true\n",
      "                    |     |    | ||+------------------------------------------------------------------------------------------ rttov-\u001b[35mS\u001b[0mcatt\n",
      "                    |     |    | |||+----------------------------------------------------------------------------------------- \u001b[35mA\u001b[0merosols\n",
      "                    |     |    | ||||+---------------------------------------------------------------------------------------- \u001b[35mC\u001b[0mlouds\n",
      "                    |     |    | |||||+--------------------------------------------------------------------------------------- \u001b[35mG\u001b[0mas units\n",
      "                    |     |    | ||||||                       +--------------------------------------------------------------- \u001b[35mM\u001b[0mw clw scheme\n",
      "                    |     |    | ||||||                       |+-------------------------------------------------------------- l\u001b[35mU\u001b[0msercfrac\n",
      "                    |     |    | ||||||                       ||+------------------------------------------------------------- \u001b[35mR\u001b[0madar\n",
      "                    |     |    | ||||||                       |||+------------------------------------------------------------ \u001b[35mI\u001b[0mR scattering model\n",
      "                    |     |    | ||||||                       ||||+----------------------------------------------------------- \u001b[35mV\u001b[0mIS scattering model\n",
      "                    |     |    | ||||||                       |||||+---------------------------------------------------------- do \u001b[35mC\u001b[0mheckinput\n",
      "                    |     |    | ||||||                       ||||||+--------------------------------------------------------- \u001b[35mA\u001b[0mpply reg limits\n",
      "                    |     |    | ||||||                       |||||||+-------------------------------------------------------- \u001b[35mR\u001b[0meg limit extrap\n",
      "                    |     |    | ||||||                       ||||||||+------------------------------------------------------- space \u001b[35mT\u001b[0mop\n",
      "                    |     |    | ||||||                       |||||||||+------------------------------------------------------ \u001b[35mG\u001b[0mradients wrt pressure\n",
      "                    |     |    | ||||||                       ||||||||||+----------------------------------------------------- \u001b[35mI\u001b[0mnterpolation mode\n",
      "                    |     |    | ||||||                       ||||||||||| +--------------------------------------------------- s\u001b[35mW\u001b[0mitchrad\n",
      "                    |     |    | ||||||                       ||||||||||| |+-------------------------------------------------- \u001b[35mP\u001b[0mlane-parallel\n",
      "                    |     |    | ||||||                       ||||||||||| ||+------------------------------------------------- \u001b[35mR\u001b[0mefraction\n",
      "                    |     |    | ||||||                       ||||||||||| |||+------------------------------------------------ \u001b[35mL\u001b[0min-in-tau for downwelling rad\n",
      "                    |     |    | ||||||                       ||||||||||| ||||+----------------------------------------------- use s2m%\u001b[35mT\u001b[0m in opdep calc\n",
      "                    |     |    | ||||||                       ||||||||||| |||||+---------------------------------------------- use s2m%\u001b[35mQ\u001b[0m\n",
      "                    |     |    | ||||||                       ||||||||||| ||||||+--------------------------------------------- \u001b[35mL\u001b[0mambertian surface\n",
      "                    |     |    | ||||||                       ||||||||||| |||||||+-------------------------------------------- lambertian \u001b[35mF\u001b[0mixed angle\n",
      "                    |     |    | ||||||                       ||||||||||| ||||||||+------------------------------------------- \u001b[35mS\u001b[0molar radiation\n",
      "                    |     |    | ||||||                       ||||||||||| |||||||||+------------------------------------------ \u001b[35mN\u001b[0mLTE correction\n",
      "                    |     |    | ||||||                       ||||||||||| ||||||||||+----------------------------------------- \u001b[35mF\u001b[0mastem version\n",
      "                    |     |    | ||||||                       ||||||||||| |||||||||||+---------------------------------------- \u001b[35mI\u001b[0mR sea emis model\n",
      "                    |     |    | ||||||                       ||||||||||| ||||||||||||+--------------------------------------- Solar \u001b[35mS\u001b[0mea brdf model\n",
      "                    |     |    | ||||||                       ||||||||||| |||||||||||||    +---------------------------------- scale TL/AD \u001b[35mI\u001b[0mncrements\n",
      "                    |     |    | ||||||                       ||||||||||| |||||||||||||    |    +----------------------------- scale TL/AD \u001b[35mO\u001b[0mutput\n",
      "                    |     |    | ||||||                       ||||||||||| |||||||||||||    |    | +--------------------------- number of \u001b[35mT\u001b[0mhreads\n",
      "                    |     |    | ||||||                       ||||||||||| |||||||||||||    |    | |    +---------------------- \u001b[35mM\u001b[0multiplicity\n",
      "                    |     |    | ||||||                       ||||||||||| |||||||||||||    |    | |    |    +----------------- call RTTOV \u001b[35mN\u001b[0m times\n",
      "                    |     |    | ||||||                       ||||||||||| |||||||||||||    |    | |    |    | +--------------- \u001b[35mC\u001b[0mhannel by channel\n",
      "                    |     |    | ||||||                       ||||||||||| |||||||||||||    |    | |    |    | |+-------------- \u001b[35mP\u001b[0mrofile by profile\n",
      "                    |     |    | ||||||                       ||||||||||| |||||||||||||    |    | |    |    | ||+------------- \u001b[35mT\u001b[0memp allocation\n",
      "                    |     |    | ||||||                       ||||||||||| |||||||||||||    |    | |    |    | |||+------------ \u001b[35mA\u001b[0mll coef channels read\n",
      "                    |     |    | ||||||                       ||||||||||| |||||||||||||    |    | |    |    | ||||+----------- \u001b[35mF\u001b[0mormat of extracted coefs\n",
      "                    |     |    | ||||||                       ||||||||||| |||||||||||||    |    | |    |    | |||||+---------- \u001b[35mI\u001b[0mgnore small values\n",
      "                    |     |    | ||||||                       ||||||||||| |||||||||||||    |    | |    |    | ||||||+--------- \u001b[35mD\u001b[0mirect\n",
      "                    |     |    | ||||||                       ||||||||||| |||||||||||||    |    | |    |    | |||||||+-------- \u001b[35mT\u001b[0mangent linear\n",
      "                    |     |    | ||||||                       ||||||||||| |||||||||||||    |    | |    |    | ||||||||+------- \u001b[35mA\u001b[0mdjoint\n",
      "                    |     |    | ||||||                       ||||||||||| |||||||||||||    |    | |    |    | |||||||||+------ \u001b[35mK\u001b[0m-matrix\n",
      "                    |     |    | ||||||                       ||||||||||| |||||||||||||    |    | |    |    | ||||||||||+----- \u001b[35mB\u001b[0mrute force k-matrix\n",
      "                    |     |    | ||||||                       ||||||||||| |||||||||||||    |    | |    |    | |||||||||||+---- \u001b[35mT\u001b[0mangent linear k-matrix\n",
      "                    |     |    | ||||||                       ||||||||||| |||||||||||||    |    | |    |    | ||||||||||||+--- \u001b[35mA\u001b[0mdjoint k-matrix\n",
      "                    |     |    | ||||||                       ||||||||||| |||||||||||||    |    | |    |    | |||||||||||||+-- \u001b[35mT\u001b[0maylor test\n",
      "     TEST_ID        C     P    L ERSACG         GASES         MURIVCARTGI WPRLTQLFSNFIS    I    O T    M    N CPTAFIDTAKBTAT  REAL TIME   USER TIME STATUS\n",
      "    atms/301        132    6  54 X....2                       2..21X.XX.1 X.XXXX.X..622    1    1 0    1    1 ......X..X....     .       0.24        0.13 \u001b[32m  OK  \u001b[0m\n",
      "\n",
      "End: 16/02/2021 10:14:14\n",
      "\n",
      "Ran 1 tests, 1 = OK\n"
     ]
    }
   ],
   "source": [
    "!./rttov_test.pl ARCH=gfortran TEST_LIST=atms/301 DIRECT=1 K=1 SWITCHRAD=1"
   ]
  },
  {
   "cell_type": "markdown",
   "metadata": {},
   "source": [
    "## old"
   ]
  },
  {
   "cell_type": "code",
   "execution_count": 19,
   "metadata": {},
   "outputs": [
    {
     "name": "stdout",
     "output_type": "stream",
     "text": [
      "+ SESSION=test_rttov13\n",
      "+ OPTS=IGNORETINY=1 ARCH=gfortran\n",
      "+ WHAT=DIRECT=1 TL=1 AD=1 K=1\n",
      "+ CHECK=CHECK=1 TEST_REF=test_rttov13.2\n",
      "+ ./rttov_test.pl SESSION=test_rttov13 DIRECT=1 TL=1 AD=1 K=1 CHECK=1 TEST_REF=test_rttov13.2 ARCH=gfortran IGNORETINY=1 ARCH=gfortran --\n",
      "\n",
      "RTTOV: rttov13     \n",
      "By:    jvillarreal@poorga1 \n",
      "On:    Linux poorga1 4.19.0-13-amd64 #1 SMP Debian 4.19.160-2 (2020-11-28) x86_64 GNU/Linux\n",
      "With:  gfortran\n",
      "Start: 10/02/2021 22:09:31\n",
      "                    +--------------------------------------------------------------------------------------------------------- number of \u001b[35mC\u001b[0mhannels\n",
      "                    |     +--------------------------------------------------------------------------------------------------- number of \u001b[35mP\u001b[0mrofiles\n",
      "                    |     |    +---------------------------------------------------------------------------------------------- number of \u001b[35mL\u001b[0mevels\n",
      "                    |     |    | +-------------------------------------------------------------------------------------------- calc\u001b[35mE\u001b[0mmis true\n",
      "                    |     |    | |+------------------------------------------------------------------------------------------- calc\u001b[35mR\u001b[0mefl true\n",
      "                    |     |    | ||+------------------------------------------------------------------------------------------ rttov-\u001b[35mS\u001b[0mcatt\n",
      "                    |     |    | |||+----------------------------------------------------------------------------------------- \u001b[35mA\u001b[0merosols\n",
      "                    |     |    | ||||+---------------------------------------------------------------------------------------- \u001b[35mC\u001b[0mlouds\n",
      "                    |     |    | |||||+--------------------------------------------------------------------------------------- \u001b[35mG\u001b[0mas units\n",
      "                    |     |    | ||||||                       +--------------------------------------------------------------- \u001b[35mM\u001b[0mw clw scheme\n",
      "                    |     |    | ||||||                       |+-------------------------------------------------------------- l\u001b[35mU\u001b[0msercfrac\n",
      "                    |     |    | ||||||                       ||+------------------------------------------------------------- \u001b[35mR\u001b[0madar\n",
      "                    |     |    | ||||||                       |||+------------------------------------------------------------ \u001b[35mI\u001b[0mR scattering model\n",
      "                    |     |    | ||||||                       ||||+----------------------------------------------------------- \u001b[35mV\u001b[0mIS scattering model\n",
      "                    |     |    | ||||||                       |||||+---------------------------------------------------------- do \u001b[35mC\u001b[0mheckinput\n",
      "                    |     |    | ||||||                       ||||||+--------------------------------------------------------- \u001b[35mA\u001b[0mpply reg limits\n",
      "                    |     |    | ||||||                       |||||||+-------------------------------------------------------- \u001b[35mR\u001b[0meg limit extrap\n",
      "                    |     |    | ||||||                       ||||||||+------------------------------------------------------- space \u001b[35mT\u001b[0mop\n",
      "                    |     |    | ||||||                       |||||||||+------------------------------------------------------ \u001b[35mG\u001b[0mradients wrt pressure\n",
      "                    |     |    | ||||||                       ||||||||||+----------------------------------------------------- \u001b[35mI\u001b[0mnterpolation mode\n",
      "                    |     |    | ||||||                       ||||||||||| +--------------------------------------------------- s\u001b[35mW\u001b[0mitchrad\n",
      "                    |     |    | ||||||                       ||||||||||| |+-------------------------------------------------- \u001b[35mP\u001b[0mlane-parallel\n",
      "                    |     |    | ||||||                       ||||||||||| ||+------------------------------------------------- \u001b[35mR\u001b[0mefraction\n",
      "                    |     |    | ||||||                       ||||||||||| |||+------------------------------------------------ \u001b[35mL\u001b[0min-in-tau for downwelling rad\n",
      "                    |     |    | ||||||                       ||||||||||| ||||+----------------------------------------------- use s2m%\u001b[35mT\u001b[0m in opdep calc\n",
      "                    |     |    | ||||||                       ||||||||||| |||||+---------------------------------------------- use s2m%\u001b[35mQ\u001b[0m\n",
      "                    |     |    | ||||||                       ||||||||||| ||||||+--------------------------------------------- \u001b[35mL\u001b[0mambertian surface\n",
      "                    |     |    | ||||||                       ||||||||||| |||||||+-------------------------------------------- lambertian \u001b[35mF\u001b[0mixed angle\n",
      "                    |     |    | ||||||                       ||||||||||| ||||||||+------------------------------------------- \u001b[35mS\u001b[0molar radiation\n",
      "                    |     |    | ||||||                       ||||||||||| |||||||||+------------------------------------------ \u001b[35mN\u001b[0mLTE correction\n",
      "                    |     |    | ||||||                       ||||||||||| ||||||||||+----------------------------------------- \u001b[35mF\u001b[0mastem version\n",
      "                    |     |    | ||||||                       ||||||||||| |||||||||||+---------------------------------------- \u001b[35mI\u001b[0mR sea emis model\n",
      "                    |     |    | ||||||                       ||||||||||| ||||||||||||+--------------------------------------- Solar \u001b[35mS\u001b[0mea brdf model\n",
      "                    |     |    | ||||||                       ||||||||||| |||||||||||||    +---------------------------------- scale TL/AD \u001b[35mI\u001b[0mncrements\n",
      "                    |     |    | ||||||                       ||||||||||| |||||||||||||    |    +----------------------------- scale TL/AD \u001b[35mO\u001b[0mutput\n",
      "                    |     |    | ||||||                       ||||||||||| |||||||||||||    |    | +--------------------------- number of \u001b[35mT\u001b[0mhreads\n",
      "                    |     |    | ||||||                       ||||||||||| |||||||||||||    |    | |    +---------------------- \u001b[35mM\u001b[0multiplicity\n",
      "                    |     |    | ||||||                       ||||||||||| |||||||||||||    |    | |    |    +----------------- call RTTOV \u001b[35mN\u001b[0m times\n",
      "                    |     |    | ||||||                       ||||||||||| |||||||||||||    |    | |    |    | +--------------- \u001b[35mC\u001b[0mhannel by channel\n",
      "                    |     |    | ||||||                       ||||||||||| |||||||||||||    |    | |    |    | |+-------------- \u001b[35mP\u001b[0mrofile by profile\n",
      "                    |     |    | ||||||                       ||||||||||| |||||||||||||    |    | |    |    | ||+------------- \u001b[35mT\u001b[0memp allocation\n",
      "                    |     |    | ||||||                       ||||||||||| |||||||||||||    |    | |    |    | |||+------------ \u001b[35mA\u001b[0mll coef channels read\n",
      "                    |     |    | ||||||                       ||||||||||| |||||||||||||    |    | |    |    | ||||+----------- \u001b[35mF\u001b[0mormat of extracted coefs\n",
      "                    |     |    | ||||||                       ||||||||||| |||||||||||||    |    | |    |    | |||||+---------- \u001b[35mI\u001b[0mgnore small values\n",
      "                    |     |    | ||||||                       ||||||||||| |||||||||||||    |    | |    |    | ||||||+--------- \u001b[35mD\u001b[0mirect\n",
      "                    |     |    | ||||||                       ||||||||||| |||||||||||||    |    | |    |    | |||||||+-------- \u001b[35mT\u001b[0mangent linear\n",
      "                    |     |    | ||||||                       ||||||||||| |||||||||||||    |    | |    |    | ||||||||+------- \u001b[35mA\u001b[0mdjoint\n",
      "                    |     |    | ||||||                       ||||||||||| |||||||||||||    |    | |    |    | |||||||||+------ \u001b[35mK\u001b[0m-matrix\n",
      "                    |     |    | ||||||                       ||||||||||| |||||||||||||    |    | |    |    | ||||||||||+----- \u001b[35mB\u001b[0mrute force k-matrix\n",
      "                    |     |    | ||||||                       ||||||||||| |||||||||||||    |    | |    |    | |||||||||||+---- \u001b[35mT\u001b[0mangent linear k-matrix\n",
      "                    |     |    | ||||||                       ||||||||||| |||||||||||||    |    | |    |    | ||||||||||||+--- \u001b[35mA\u001b[0mdjoint k-matrix\n",
      "                    |     |    | ||||||                       ||||||||||| |||||||||||||    |    | |    |    | |||||||||||||+-- \u001b[35mT\u001b[0maylor test\n",
      "     TEST_ID        C     P    L ERSACG         GASES         MURIVCARTGI WPRLTQLFSNFIS    I    O T    M    N CPTAFIDTAKBTAT  REAL TIME   USER TIME STATUS\n",
      "    amsre/301        72    6  54 X....2                       2..21X.XX.1 X.XXXX.X..622    1    1 0    1    1 .....XXXXX....     .       0.16        0.11 \u001b[32m  OK  \u001b[0m\n",
      "    amsua/301        90    6  54 X....2                       2..21X.XX.1 X.XXXX.X..622    1    1 0    1    1 .....XXXXX....     .       0.20        0.14 \u001b[32m  OK  \u001b[0m\n",
      "  amsua/321clw       90    6 101 X....2 clw                   2..21X.XX.1 X.XXXX.X..622    1    1 0    1    1 .....XXXXX....     .       0.36        0.30 \u001b[32m  OK  \u001b[0m\n",
      "    amsub/301        30    6  54 X....2                       2..21X.XX.1 X.XXXX.X..622    1    1 0    1    1 .....XXXXX....     .       0.11        0.05 \u001b[32m  OK  \u001b[0m\n",
      "     msu/301         24    6  54 X....2                       2..21X.XX.1 X.XXXX.X..622    1    1 0    1    1 .....XXXXX....     .       0.09        0.04 \u001b[32m  OK  \u001b[0m\n",
      "    ssmis/301       126    6  54 X....2                       2..21X.XX.1 X.XXXX.X..622    1    1 0    1    1 .....XXXXX....     .       0.28        0.21 \u001b[32m  OK  \u001b[0m\n",
      "    ssmis/321       126    6 101 X....2                       2..21X.XX.1 X.XXXX.X..622    1    1 0    1    1 .....XXXXX....     .       0.43        0.35 \u001b[32m  OK  \u001b[0m\n",
      "   windsat/301       96    6  54 X....2                       2..21X.XX.1 X.XXXX.X..622    1    1 0    1    1 .....XXXXX....     .       0.23        0.19 \u001b[32m  OK  \u001b[0m\n",
      "    hirs/517        114    6  54 X....2 co2 o3                2..21XXXX.1 X.XXXX.X..622    1    1 0    1    1 .....XXXXX....     .       0.34        0.27 \u001b[33m DIFF \u001b[0m\n",
      "\n",
      "\t\t    | ========== PROFILES_K(   1)%CFRACTION ==========\n",
      "\t\t    |\t\t\t\t\t\t\t\t 0\n",
      "\t\t    | test_rttov13.1.gfortran/hirs/517/out/k/profiles_k.txt: -0.265466E-009\n",
      "\t\t    | test_rttov13.2/hirs/517/out/k/profiles_k.txt\t: -0.265472E-009\n",
      "                    +-----------------------------------------------------------------------------------------\n",
      "\n",
      "    modis/401       216    6  54 XX...2 o3                    2..21X.XX.1 X.XXXX.XX.622    1    1 0    1    1 .....XXXXX....     .       0.64        0.54 \u001b[32m  OK  \u001b[0m\n",
      "   seviri/524        66    6 101 XX...2 co2 o3                2..21X.XX.1 X.XXXX.XX.622    1    1 0    1    1 .....XXXXX....     .       0.36        0.27 \u001b[32m  OK  \u001b[0m\n",
      "\n",
      "End: 10/02/2021 22:10:17\n",
      "\n",
      "Ran 11 tests, 1 = DIFF, 10 = OK\n"
     ]
    }
   ],
   "source": [
    "!./test_rttov13.sh ARCH=gfortran"
   ]
  },
  {
   "cell_type": "code",
   "execution_count": 21,
   "metadata": {},
   "outputs": [
    {
     "name": "stdout",
     "output_type": "stream",
     "text": [
      "\n",
      "RTTOV: rttov13     \n",
      "By:    jvillarreal@poorga1 \n",
      "On:    Linux poorga1 4.19.0-13-amd64 #1 SMP Debian 4.19.160-2 (2020-11-28) x86_64 GNU/Linux\n",
      "With:  gfortran\n",
      "Start: 10/02/2021 22:13:40\n",
      "                    +--------------------------------------------------------------------------------------------------------- number of \u001b[35mC\u001b[0mhannels\n",
      "                    |     +--------------------------------------------------------------------------------------------------- number of \u001b[35mP\u001b[0mrofiles\n",
      "                    |     |    +---------------------------------------------------------------------------------------------- number of \u001b[35mL\u001b[0mevels\n",
      "                    |     |    | +-------------------------------------------------------------------------------------------- calc\u001b[35mE\u001b[0mmis true\n",
      "                    |     |    | |+------------------------------------------------------------------------------------------- calc\u001b[35mR\u001b[0mefl true\n",
      "                    |     |    | ||+------------------------------------------------------------------------------------------ rttov-\u001b[35mS\u001b[0mcatt\n",
      "                    |     |    | |||+----------------------------------------------------------------------------------------- \u001b[35mA\u001b[0merosols\n",
      "                    |     |    | ||||+---------------------------------------------------------------------------------------- \u001b[35mC\u001b[0mlouds\n",
      "                    |     |    | |||||+--------------------------------------------------------------------------------------- \u001b[35mG\u001b[0mas units\n",
      "                    |     |    | ||||||                       +--------------------------------------------------------------- \u001b[35mM\u001b[0mw clw scheme\n",
      "                    |     |    | ||||||                       |+-------------------------------------------------------------- l\u001b[35mU\u001b[0msercfrac\n",
      "                    |     |    | ||||||                       ||+------------------------------------------------------------- \u001b[35mR\u001b[0madar\n",
      "                    |     |    | ||||||                       |||+------------------------------------------------------------ \u001b[35mI\u001b[0mR scattering model\n",
      "                    |     |    | ||||||                       ||||+----------------------------------------------------------- \u001b[35mV\u001b[0mIS scattering model\n",
      "                    |     |    | ||||||                       |||||+---------------------------------------------------------- do \u001b[35mC\u001b[0mheckinput\n",
      "                    |     |    | ||||||                       ||||||+--------------------------------------------------------- \u001b[35mA\u001b[0mpply reg limits\n",
      "                    |     |    | ||||||                       |||||||+-------------------------------------------------------- \u001b[35mR\u001b[0meg limit extrap\n",
      "                    |     |    | ||||||                       ||||||||+------------------------------------------------------- space \u001b[35mT\u001b[0mop\n",
      "                    |     |    | ||||||                       |||||||||+------------------------------------------------------ \u001b[35mG\u001b[0mradients wrt pressure\n",
      "                    |     |    | ||||||                       ||||||||||+----------------------------------------------------- \u001b[35mI\u001b[0mnterpolation mode\n",
      "                    |     |    | ||||||                       ||||||||||| +--------------------------------------------------- s\u001b[35mW\u001b[0mitchrad\n",
      "                    |     |    | ||||||                       ||||||||||| |+-------------------------------------------------- \u001b[35mP\u001b[0mlane-parallel\n",
      "                    |     |    | ||||||                       ||||||||||| ||+------------------------------------------------- \u001b[35mR\u001b[0mefraction\n",
      "                    |     |    | ||||||                       ||||||||||| |||+------------------------------------------------ \u001b[35mL\u001b[0min-in-tau for downwelling rad\n",
      "                    |     |    | ||||||                       ||||||||||| ||||+----------------------------------------------- use s2m%\u001b[35mT\u001b[0m in opdep calc\n",
      "                    |     |    | ||||||                       ||||||||||| |||||+---------------------------------------------- use s2m%\u001b[35mQ\u001b[0m\n",
      "                    |     |    | ||||||                       ||||||||||| ||||||+--------------------------------------------- \u001b[35mL\u001b[0mambertian surface\n",
      "                    |     |    | ||||||                       ||||||||||| |||||||+-------------------------------------------- lambertian \u001b[35mF\u001b[0mixed angle\n",
      "                    |     |    | ||||||                       ||||||||||| ||||||||+------------------------------------------- \u001b[35mS\u001b[0molar radiation\n",
      "                    |     |    | ||||||                       ||||||||||| |||||||||+------------------------------------------ \u001b[35mN\u001b[0mLTE correction\n",
      "                    |     |    | ||||||                       ||||||||||| ||||||||||+----------------------------------------- \u001b[35mF\u001b[0mastem version\n",
      "                    |     |    | ||||||                       ||||||||||| |||||||||||+---------------------------------------- \u001b[35mI\u001b[0mR sea emis model\n",
      "                    |     |    | ||||||                       ||||||||||| ||||||||||||+--------------------------------------- Solar \u001b[35mS\u001b[0mea brdf model\n",
      "                    |     |    | ||||||                       ||||||||||| |||||||||||||    +---------------------------------- scale TL/AD \u001b[35mI\u001b[0mncrements\n",
      "                    |     |    | ||||||                       ||||||||||| |||||||||||||    |    +----------------------------- scale TL/AD \u001b[35mO\u001b[0mutput\n",
      "                    |     |    | ||||||                       ||||||||||| |||||||||||||    |    | +--------------------------- number of \u001b[35mT\u001b[0mhreads\n",
      "                    |     |    | ||||||                       ||||||||||| |||||||||||||    |    | |    +---------------------- \u001b[35mM\u001b[0multiplicity\n",
      "                    |     |    | ||||||                       ||||||||||| |||||||||||||    |    | |    |    +----------------- call RTTOV \u001b[35mN\u001b[0m times\n",
      "                    |     |    | ||||||                       ||||||||||| |||||||||||||    |    | |    |    | +--------------- \u001b[35mC\u001b[0mhannel by channel\n",
      "                    |     |    | ||||||                       ||||||||||| |||||||||||||    |    | |    |    | |+-------------- \u001b[35mP\u001b[0mrofile by profile\n",
      "                    |     |    | ||||||                       ||||||||||| |||||||||||||    |    | |    |    | ||+------------- \u001b[35mT\u001b[0memp allocation\n",
      "                    |     |    | ||||||                       ||||||||||| |||||||||||||    |    | |    |    | |||+------------ \u001b[35mA\u001b[0mll coef channels read\n",
      "                    |     |    | ||||||                       ||||||||||| |||||||||||||    |    | |    |    | ||||+----------- \u001b[35mF\u001b[0mormat of extracted coefs\n",
      "                    |     |    | ||||||                       ||||||||||| |||||||||||||    |    | |    |    | |||||+---------- \u001b[35mI\u001b[0mgnore small values\n",
      "                    |     |    | ||||||                       ||||||||||| |||||||||||||    |    | |    |    | ||||||+--------- \u001b[35mD\u001b[0mirect\n",
      "                    |     |    | ||||||                       ||||||||||| |||||||||||||    |    | |    |    | |||||||+-------- \u001b[35mT\u001b[0mangent linear\n",
      "                    |     |    | ||||||                       ||||||||||| |||||||||||||    |    | |    |    | ||||||||+------- \u001b[35mA\u001b[0mdjoint\n",
      "                    |     |    | ||||||                       ||||||||||| |||||||||||||    |    | |    |    | |||||||||+------ \u001b[35mK\u001b[0m-matrix\n",
      "                    |     |    | ||||||                       ||||||||||| |||||||||||||    |    | |    |    | ||||||||||+----- \u001b[35mB\u001b[0mrute force k-matrix\n",
      "                    |     |    | ||||||                       ||||||||||| |||||||||||||    |    | |    |    | |||||||||||+---- \u001b[35mT\u001b[0mangent linear k-matrix\n",
      "                    |     |    | ||||||                       ||||||||||| |||||||||||||    |    | |    |    | ||||||||||||+--- \u001b[35mA\u001b[0mdjoint k-matrix\n",
      "                    |     |    | ||||||                       ||||||||||| |||||||||||||    |    | |    |    | |||||||||||||+-- \u001b[35mT\u001b[0maylor test\n",
      "     TEST_ID        C     P    L ERSACG         GASES         MURIVCARTGI WPRLTQLFSNFIS    I    O T    M    N CPTAFIDTAKBTAT  REAL TIME   USER TIME STATUS\n",
      "    atms/301        132    6  54 X....2                       2..21X.XX.1 X.XXXX.X..622    1    1 0    1    1 ......X..X....     .       0.19        0.12 \u001b[32m  OK  \u001b[0m\n",
      "\n",
      "End: 10/02/2021 22:13:40\n",
      "\n",
      "Ran 1 tests, 1 = OK\n"
     ]
    }
   ],
   "source": [
    "!./rttov_test.pl ARCH=gfortran TEST_LIST=atms/301 DIRECT=1 K=1 SWITCHRAD=1"
   ]
  },
  {
   "cell_type": "code",
   "execution_count": 31,
   "metadata": {},
   "outputs": [
    {
     "name": "stdout",
     "output_type": "stream",
     "text": [
      "Traceback (most recent call last):\n",
      "  File \"rttov_test_plot.py\", line 77, in <module>\n",
      "    import matplotlib.pyplot as plt\n",
      "  File \"/home/jvillarreal/.conda/envs/phd/lib/python3.8/site-packages/matplotlib/pyplot.py\", line 2336, in <module>\n",
      "    switch_backend(rcParams[\"backend\"])\n",
      "  File \"/home/jvillarreal/.conda/envs/phd/lib/python3.8/site-packages/matplotlib/pyplot.py\", line 284, in switch_backend\n",
      "    raise ImportError(\n",
      "ImportError: Cannot load backend 'WXAgg' which requires the 'wx' interactive framework, as 'headless' is currently running\n"
     ]
    }
   ],
   "source": [
    "!python rttov_test_plot.py"
   ]
  }
 ],
 "metadata": {
  "kernelspec": {
   "display_name": "Python 3",
   "language": "python",
   "name": "python3"
  },
  "language_info": {
   "codemirror_mode": {
    "name": "ipython",
    "version": 3
   },
   "file_extension": ".py",
   "mimetype": "text/x-python",
   "name": "python",
   "nbconvert_exporter": "python",
   "pygments_lexer": "ipython3",
   "version": "3.8.3"
  }
 },
 "nbformat": 4,
 "nbformat_minor": 4
}
