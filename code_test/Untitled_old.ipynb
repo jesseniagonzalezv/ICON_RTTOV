{
 "cells": [
  {
   "cell_type": "code",
   "execution_count": 1,
   "id": "ac253388-b8ae-4c4c-beb9-7ea004dd3209",
   "metadata": {},
   "outputs": [],
   "source": [
    "import xarray as xr\n",
    "import numpy as np\n",
    "from matplotlib import pyplot as plt\n",
    "import argparse\n",
    "import pandas as pd\n",
    "from eofs.xarray import Eof\n",
    "from sklearn import preprocessing\n",
    "from sklearn.decomposition import PCA\n",
    "\n",
    "from lwp_nd import lwp_nd_input_ICON\n",
    "from PCA_radiances import PCA_calculation, variance_sklearn_plot, dataframe_csv, convert_3D\n",
    "\n",
    "from sklearn.inspection import permutation_importance\n",
    "from sklearn.metrics import make_scorer, check_scoring, mean_squared_error\n",
    "\n",
    "from sklearn.ensemble import RandomForestRegressor\n",
    "from sklearn import metrics\n"
   ]
  },
  {
   "cell_type": "code",
   "execution_count": 3,
   "id": "865142c3-310c-48ae-bfbc-49f64ee89335",
   "metadata": {},
   "outputs": [],
   "source": [
    "path_ICON = \"/home/jvillarreal/Documents/phd/dataset/data_rttov_T12.nc\"\n",
    "path_output = \"/home/jvillarreal/Documents/phd/output/ML_output\"\n",
    "path_OUTPUT_RTTOV = \"/home/jvillarreal/Documents/phd/github/output-rttov/output-test-2-modis.nc\"\n",
    "rttov_path_refl_emmis = \"/home/jvillarreal/Documents/phd/github/output-rttov/rttov-131-data-icon-1to19-26-T12.nc\"\n",
    "rttov_path_rad = \"/home/jvillarreal/Documents/phd/github/output-rttov/rttov-13-data-icon-1-to-36-not-flip.nc\"\n",
    "path_rttov_test = \"/home/jvillarreal/Documents/phd/github/output-rttov/rttov-131-data-icon-1to36-T09.nc\"\n",
    "path_ICON_test = \"/home/jvillarreal/Documents/phd/dataset/data_rttov_T09.nc\"\n",
    "path_ICON_test2 = \"/home/jvillarreal/Documents/phd/dataset/data_rttov_T09.nc\"\n",
    "\n"
   ]
  },
  {
   "cell_type": "code",
   "execution_count": 14,
   "id": "e3839d8e-436d-4a27-bfb1-1351d83355bd",
   "metadata": {},
   "outputs": [
    {
     "name": "stdout",
     "output_type": "stream",
     "text": [
      "<xarray.Dataset>\n",
      "Dimensions:       (lat: 637, lon: 589, height: 150)\n",
      "Coordinates:\n",
      "  * height        (height) float64 1.0 2.0 3.0 4.0 ... 147.0 148.0 149.0 150.0\n",
      "  * lat           (lat) float64 47.5 47.51 47.52 47.53 ... 54.47 54.48 54.5\n",
      "  * lon           (lon) float64 4.5 4.517 4.534 4.551 ... 14.45 14.46 14.48 14.5\n",
      "Data variables: (12/21)\n",
      "    FR_LAND       (lat, lon) float32 1.0 1.0 1.0 1.0 1.0 ... 0.0 0.0 0.0 0.0 0.0\n",
      "    cct           (lat, lon) float32 0.0 0.0 0.0 0.0 ... 7.503e+04 7.502e+04 0.0\n",
      "    clc           (height, lat, lon) float32 0.0 0.0 0.0 0.0 ... 0.0 0.0 0.0 0.0\n",
      "    cli           (height, lat, lon) float32 0.0 0.0 0.0 0.0 ... 0.0 0.0 0.0 0.0\n",
      "    clw           (height, lat, lon) float32 0.0 0.0 0.0 0.0 ... 0.0 0.0 0.0 0.0\n",
      "    clwvi         (lat, lon) float32 0.0 0.0 0.0 0.0 ... 0.2108 0.1401 0.03157\n",
      "    ...            ...\n",
      "    tas           (lat, lon) float32 287.9 287.9 287.9 ... 279.5 279.4 279.4\n",
      "    topography_c  (lat, lon) float32 411.2 411.7 411.7 393.6 ... 0.0 0.0 0.0 0.0\n",
      "    u_10m         (lat, lon) float32 -1.667 -1.617 -1.617 ... -1.915 -1.74\n",
      "    v_10m         (lat, lon) float32 -2.653 -2.574 -2.574 ... -5.041 -4.962\n",
      "    z_ifc         (height, lat, lon) float32 2.062e+04 2.062e+04 ... 0.0 0.0\n",
      "    z_mc          (height, lat, lon) float32 2.081e+04 2.081e+04 ... 10.0 10.0\n",
      "Attributes:\n",
      "    CDI:          Climate Data Interface version 1.9.10 (https://mpimet.mpg.d...\n",
      "    Conventions:  CF-1.4\n",
      "    uuidOfVGrid:  3be5ac35-92f4-4e91-7418-b62336222e20\n",
      "    title:        ICON simulation\n",
      "    history:      Thu Apr  7 15:42:57 2022: ncks -C -O -x -v height_bnds /wor...\n",
      "    references:   see MPIM/DWD publications\n",
      "    comment:      HDCP2 Sammelaccount (k203095) on m21744 (Linux 2.6.32-696.1...\n",
      "    NCO:          netCDF Operators version 5.0.1 (Homepage = http://nco.sf.ne...\n",
      "    CDO:          Climate Data Operators version 1.9.10 (https://mpimet.mpg.d...\n"
     ]
    },
    {
     "name": "stderr",
     "output_type": "stream",
     "text": [
      "/home/jvillarreal/Documents/phd/github/ICON_RTTOV/code_test/lwp_nd.py:75: RuntimeWarning: overflow encountered in exp\n",
      "  esat_2013 = (0.611* np.exp(17.3*T_c))/(T_c+237.3)\n",
      "/home/jvillarreal/Documents/phd/github/ICON_RTTOV/code_test/lwp_nd.py:77: RuntimeWarning: overflow encountered in multiply\n",
      "  esat_2013 = esat_2013*1000.0\n",
      "/home/jvillarreal/Documents/phd/github/ICON_RTTOV/code_test/lwp_nd.py:80: RuntimeWarning: divide by zero encountered in true_divide\n",
      "  RH_2013 = 100*(r_2013/qs_2013)\n",
      "/home/jvillarreal/Documents/phd/github/ICON_RTTOV/code_test/lwp_nd.py:80: RuntimeWarning: overflow encountered in true_divide\n",
      "  RH_2013 = 100*(r_2013/qs_2013)\n",
      "/home/jvillarreal/Documents/phd/github/ICON_RTTOV/code_test/lwp_nd.py:80: RuntimeWarning: overflow encountered in multiply\n",
      "  RH_2013 = 100*(r_2013/qs_2013)\n",
      "/home/jvillarreal/Documents/phd/github/ICON_RTTOV/code_test/lwp_nd.py:81: RuntimeWarning: invalid value encountered in multiply\n",
      "  pv_2013 = (esat_2013*RH_2013)/100.0\n",
      "/home/jvillarreal/Documents/phd/github/ICON_RTTOV/code_test/lwp_nd.py:83: RuntimeWarning: invalid value encountered in add\n",
      "  rho_2013 = (pd_2013/(287.058*T_2013)) + (pv_2013/(461.495*T_2013))  #nana\n"
     ]
    },
    {
     "name": "stdout",
     "output_type": "stream",
     "text": [
      "max and min cdnc nan nan\n",
      "1 (150, 628, 589) (628, 589) (628, 589)\n",
      "2 (55483800,) (369892,) (369892,)\n",
      "nan debe ser igual to --\n",
      "------------\n",
      " [nan nan nan nan nan nan nan nan nan nan nan nan nan nan nan nan nan nan\n",
      " nan nan nan nan nan nan nan nan nan nan nan nan nan nan nan nan nan nan\n",
      " nan nan nan nan nan nan nan nan nan nan nan nan nan nan nan nan nan nan\n",
      " nan nan nan nan nan nan nan nan nan nan nan nan nan nan nan nan nan nan\n",
      " nan nan nan nan nan nan nan nan nan nan nan nan nan nan nan nan nan nan\n",
      " nan nan nan nan nan nan nan nan nan nan nan nan nan nan nan nan nan  0.\n",
      "  0.  0.  0.  0.  0.  0.  0.  0.  0.  0.  0.  0.  0.  0.  0.  0.  0.  0.\n",
      "  0.  0.  0. nan nan nan nan nan nan nan nan nan nan nan nan nan nan nan\n",
      " nan nan nan nan nan nan]\n"
     ]
    },
    {
     "name": "stderr",
     "output_type": "stream",
     "text": [
      "/home/jvillarreal/Documents/phd/github/ICON_RTTOV/code_test/lwp_nd.py:39: MatplotlibDeprecationWarning: shading='flat' when X and Y have the same dimensions as C is deprecated since 3.3.  Either specify the corners of the quadrilaterals with X and Y, or pass shading='auto', 'nearest' or 'gouraud', or set rcParams['pcolor.shading'].  This will become an error two minor releases later.\n",
      "  im = ax.pcolormesh(x, y, z, cmap ='jet', vmin=vmin, vmax = vmax ) #cmap=cmap.N, norm=norm)\n"
     ]
    },
    {
     "name": "stdout",
     "output_type": "stream",
     "text": [
      "===============T_2013 (height 120, lat 57, lon 227) cm: 276.151153564453 ==  276.37033\n",
      "===============T_c (height 120, lat 57, lon 227) cm: 3.00115356445315==  3.220337\n",
      "===============esat_2013 (height 120, lat 57, lon 227) 758.360598313415 ==  3.983164e+24\n",
      "===============p_2013 (height 120, lat 57, lon 227)75935.328125 ==  76395.13\n",
      "===============qs_2013 (height 120, lat 57, lon 227) 0.00621186875461262  ==  3.243044e+19\n",
      "===============r_2013 (height 120, lat 57, lon 227) 0.0062973626597643 ==  0.0049734227\n",
      "===============RH_2013 (height 120, lat 57, lon 227) 101.376299283339 ==  1.5335662e-20\n",
      "===============pv_2013 (height 120, lat 57, lon 227) 768.797909793127 ==  610.84454\n",
      "===============pd_2013 (height 120, lat 57, lon 227) 75166.5302152069 ==  75784.29\n",
      "===============rho_2013 (height 120, lat 57, lon 227) 0.954250058491486 ==  0.9600416\n",
      "===============cdnc_2013_cm (height 120, lat 57, lon 227) 15.5508091629487 ==  0.0\n"
     ]
    }
   ],
   "source": [
    "ds_T09, p_2013, T_2013, q_2013, max_cdnc_2013_cm, lwp_2013, lat, lon, height= lwp_nd_input_ICON(path_output = path_output, path_ICON = path_ICON_test) #obtain more outputs of it\n"
   ]
  },
  {
   "cell_type": "code",
   "execution_count": 4,
   "id": "5babd9b6-2553-4565-b8c4-66e22657bece",
   "metadata": {},
   "outputs": [
    {
     "name": "stdout",
     "output_type": "stream",
     "text": [
      "<xarray.Dataset>\n",
      "Dimensions:       (lat: 637, lon: 589, height: 150)\n",
      "Coordinates:\n",
      "  * height        (height) float64 1.0 2.0 3.0 4.0 ... 147.0 148.0 149.0 150.0\n",
      "  * lat           (lat) float64 47.5 47.51 47.52 47.53 ... 54.47 54.48 54.5\n",
      "  * lon           (lon) float64 4.5 4.517 4.534 4.551 ... 14.45 14.46 14.48 14.5\n",
      "Data variables: (12/21)\n",
      "    FR_LAND       (lat, lon) float32 1.0 1.0 1.0 1.0 1.0 ... 0.0 0.0 0.0 0.0 0.0\n",
      "    cct           (lat, lon) float32 0.0 0.0 0.0 0.0 ... -999.0 7.681e+04 0.0\n",
      "    clc           (height, lat, lon) float32 0.0 0.0 0.0 0.0 ... 0.0 0.0 0.0 0.0\n",
      "    cli           (height, lat, lon) float32 0.0 0.0 0.0 0.0 ... 0.0 0.0 0.0 0.0\n",
      "    clw           (height, lat, lon) float32 0.0 0.0 0.0 0.0 ... 0.0 0.0 0.0 0.0\n",
      "    clwvi         (lat, lon) float32 0.0 8.124e-06 8.124e-06 ... 0.01018 0.04625\n",
      "    ...            ...\n",
      "    tas           (lat, lon) float32 289.8 289.9 289.9 ... 279.3 279.4 279.3\n",
      "    topography_c  (lat, lon) float32 411.2 411.7 411.7 393.6 ... 0.0 0.0 0.0 0.0\n",
      "    u_10m         (lat, lon) float32 -2.934 -2.812 -2.812 ... -4.482 -4.416\n",
      "    v_10m         (lat, lon) float32 -1.383 -1.632 -1.632 ... -1.74 -1.602 -1.46\n",
      "    z_ifc         (height, lat, lon) float32 2.062e+04 2.062e+04 ... 0.0 0.0\n",
      "    z_mc          (height, lat, lon) float32 2.081e+04 2.081e+04 ... 10.0 10.0\n",
      "Attributes:\n",
      "    CDI:          Climate Data Interface version 1.9.10 (https://mpimet.mpg.d...\n",
      "    Conventions:  CF-1.4\n",
      "    uuidOfVGrid:  3be5ac35-92f4-4e91-7418-b62336222e20\n",
      "    title:        ICON simulation\n",
      "    history:      Wed Apr  6 16:27:59 2022: ncks -C -O -x -v height_bnds /wor...\n",
      "    references:   see MPIM/DWD publications\n",
      "    comment:      HDCP2 Sammelaccount (k203095) on m21726 (Linux 2.6.32-696.1...\n",
      "    NCO:          netCDF Operators version 5.0.1 (Homepage = http://nco.sf.ne...\n",
      "    CDO:          Climate Data Operators version 1.9.10 (https://mpimet.mpg.d...\n"
     ]
    },
    {
     "name": "stderr",
     "output_type": "stream",
     "text": [
      "/home/jvillarreal/Documents/phd/github/ICON_RTTOV/code_test/lwp_nd.py:75: RuntimeWarning: overflow encountered in exp\n",
      "  esat_2013 = (0.611* np.exp(17.3*T_c))/(T_c+237.3)\n",
      "/home/jvillarreal/Documents/phd/github/ICON_RTTOV/code_test/lwp_nd.py:77: RuntimeWarning: overflow encountered in multiply\n",
      "  esat_2013 = esat_2013*1000.0\n",
      "/home/jvillarreal/Documents/phd/github/ICON_RTTOV/code_test/lwp_nd.py:80: RuntimeWarning: divide by zero encountered in true_divide\n",
      "  RH_2013 = 100*(r_2013/qs_2013)\n",
      "/home/jvillarreal/Documents/phd/github/ICON_RTTOV/code_test/lwp_nd.py:80: RuntimeWarning: overflow encountered in true_divide\n",
      "  RH_2013 = 100*(r_2013/qs_2013)\n",
      "/home/jvillarreal/Documents/phd/github/ICON_RTTOV/code_test/lwp_nd.py:80: RuntimeWarning: overflow encountered in multiply\n",
      "  RH_2013 = 100*(r_2013/qs_2013)\n",
      "/home/jvillarreal/Documents/phd/github/ICON_RTTOV/code_test/lwp_nd.py:81: RuntimeWarning: invalid value encountered in multiply\n",
      "  pv_2013 = (esat_2013*RH_2013)/100.0\n",
      "/home/jvillarreal/Documents/phd/github/ICON_RTTOV/code_test/lwp_nd.py:83: RuntimeWarning: invalid value encountered in add\n",
      "  rho_2013 = (pd_2013/(287.058*T_2013)) + (pv_2013/(461.495*T_2013))  #nana\n"
     ]
    },
    {
     "name": "stdout",
     "output_type": "stream",
     "text": [
      "max and min cdnc nan nan\n",
      "1 (150, 628, 589) (628, 589) (628, 589)\n",
      "2 (55483800,) (369892,) (369892,)\n",
      "nan debe ser igual to 0.6855309375\n",
      "------------\n",
      " [           nan            nan            nan            nan\n",
      "            nan            nan            nan            nan\n",
      "            nan            nan            nan            nan\n",
      "            nan            nan            nan            nan\n",
      "            nan            nan            nan            nan\n",
      "            nan            nan            nan            nan\n",
      "            nan            nan            nan            nan\n",
      "            nan            nan            nan            nan\n",
      "            nan            nan            nan            nan\n",
      "            nan            nan            nan            nan\n",
      "            nan            nan            nan            nan\n",
      "            nan            nan            nan            nan\n",
      "            nan            nan            nan            nan\n",
      "            nan            nan            nan            nan\n",
      "            nan            nan            nan            nan\n",
      "            nan            nan            nan            nan\n",
      "            nan            nan            nan            nan\n",
      "            nan            nan            nan            nan\n",
      "            nan            nan            nan            nan\n",
      "            nan            nan            nan            nan\n",
      "            nan            nan            nan            nan\n",
      "            nan            nan            nan            nan\n",
      "            nan            nan            nan            nan\n",
      "            nan            nan            nan            nan\n",
      "            nan            nan            nan            nan\n",
      "            nan            nan            nan            nan\n",
      "            nan            nan            nan 0.00000000e+00\n",
      " 0.00000000e+00 0.00000000e+00 0.00000000e+00 0.00000000e+00\n",
      " 0.00000000e+00 0.00000000e+00 0.00000000e+00 1.66997766e-03\n",
      " 3.74817090e-03 6.13313555e-02 0.00000000e+00 0.00000000e+00\n",
      " 6.85530938e-01 4.88389594e-01 1.20509563e-01 3.20139938e-01\n",
      " 0.00000000e+00 1.69779099e-04 5.53522987e-05 1.12765008e-01\n",
      "            nan            nan            nan            nan\n",
      "            nan            nan            nan            nan\n",
      "            nan            nan            nan            nan\n",
      "            nan            nan            nan            nan\n",
      "            nan            nan            nan            nan\n",
      "            nan            nan]\n"
     ]
    },
    {
     "name": "stderr",
     "output_type": "stream",
     "text": [
      "/home/jvillarreal/Documents/phd/github/ICON_RTTOV/code_test/lwp_nd.py:39: MatplotlibDeprecationWarning: shading='flat' when X and Y have the same dimensions as C is deprecated since 3.3.  Either specify the corners of the quadrilaterals with X and Y, or pass shading='auto', 'nearest' or 'gouraud', or set rcParams['pcolor.shading'].  This will become an error two minor releases later.\n",
      "  im = ax.pcolormesh(x, y, z, cmap ='jet', vmin=vmin, vmax = vmax ) #cmap=cmap.N, norm=norm)\n"
     ]
    },
    {
     "name": "stdout",
     "output_type": "stream",
     "text": [
      "===============T_2013 (height 120, lat 57, lon 227) cm: 276.151153564453 ==  276.40933\n",
      "===============T_c (height 120, lat 57, lon 227) cm: 3.00115356445315==  3.2593384\n",
      "===============esat_2013 (height 120, lat 57, lon 227) 758.360598313415 ==  7.819643e+24\n",
      "===============p_2013 (height 120, lat 57, lon 227)75935.328125 ==  76403.13\n",
      "===============qs_2013 (height 120, lat 57, lon 227) 0.00621186875461262  ==  6.3659924e+19\n",
      "===============r_2013 (height 120, lat 57, lon 227) 0.0062973626597643 ==  0.004533605\n",
      "===============RH_2013 (height 120, lat 57, lon 227) 101.376299283339 ==  7.1216e-21\n",
      "===============pv_2013 (height 120, lat 57, lon 227) 768.797909793127 ==  556.8837\n",
      "===============pd_2013 (height 120, lat 57, lon 227) 75166.5302152069 ==  75846.25\n",
      "===============rho_2013 (height 120, lat 57, lon 227) 0.954250058491486 ==  0.960264\n",
      "===============cdnc_2013_cm (height 120, lat 57, lon 227) 15.5508091629487 ==  0.0\n"
     ]
    }
   ],
   "source": [
    "ds_T12, p_2013, T_2013, q_2013, max_cdnc_2013_cm, lwp_2013, lat, lon, height= lwp_nd_input_ICON(path_output = path_output, path_ICON = path_ICON) #obtain more outputs of it\n"
   ]
  },
  {
   "cell_type": "code",
   "execution_count": 18,
   "id": "a27d8d4c-bc47-4b44-9fa3-b2411756a741",
   "metadata": {},
   "outputs": [
    {
     "data": {
      "text/plain": [
       "(0.0, 295.99216)"
      ]
     },
     "execution_count": 18,
     "metadata": {},
     "output_type": "execute_result"
    }
   ],
   "source": [
    "ds_T12[\"ta\"].values.min(),ds_T12[\"ta\"].values.max()"
   ]
  },
  {
   "cell_type": "code",
   "execution_count": 19,
   "id": "514df100-ae07-4557-8dc3-a3ad77a8dd3e",
   "metadata": {},
   "outputs": [
    {
     "data": {
      "text/plain": [
       "(0.0, 292.963)"
      ]
     },
     "execution_count": 19,
     "metadata": {},
     "output_type": "execute_result"
    }
   ],
   "source": [
    "ds_T09[\"ta\"].values.min(),ds_T09[\"ta\"].values.max()"
   ]
  },
  {
   "cell_type": "code",
   "execution_count": 20,
   "id": "76bd5fcc-bb40-4db9-9df2-d817801b2869",
   "metadata": {},
   "outputs": [
    {
     "data": {
      "text/plain": [
       "(0.0, 0.011469095)"
      ]
     },
     "execution_count": 20,
     "metadata": {},
     "output_type": "execute_result"
    }
   ],
   "source": [
    "ds_T12[\"hus\"].values.min(),ds_T12[\"hus\"].values.max()"
   ]
  },
  {
   "cell_type": "code",
   "execution_count": 21,
   "id": "fbe83e8b-8da9-4ff7-b8a8-afd51564ae2c",
   "metadata": {},
   "outputs": [
    {
     "data": {
      "text/plain": [
       "(0.0, 0.010540523)"
      ]
     },
     "execution_count": 21,
     "metadata": {},
     "output_type": "execute_result"
    }
   ],
   "source": [
    "ds_T09[\"hus\"].values.min(),ds_T09[\"hus\"].values.max()"
   ]
  },
  {
   "cell_type": "code",
   "execution_count": 22,
   "id": "40317455-4a00-42ba-9ef8-e62cddaeb69e",
   "metadata": {},
   "outputs": [
    {
     "data": {
      "text/plain": [
       "(0.0, 103661.13)"
      ]
     },
     "execution_count": 22,
     "metadata": {},
     "output_type": "execute_result"
    }
   ],
   "source": [
    "ds_T12[\"pres\"].values.min(),ds_T12[\"pres\"].values.max()"
   ]
  },
  {
   "cell_type": "code",
   "execution_count": 23,
   "id": "669f7982-ca70-4f4e-af2a-2b49936f68c7",
   "metadata": {},
   "outputs": [
    {
     "data": {
      "text/plain": [
       "(0.0, 103740.53)"
      ]
     },
     "execution_count": 23,
     "metadata": {},
     "output_type": "execute_result"
    }
   ],
   "source": [
    "ds_T09[\"pres\"].values.min(),ds_T09[\"pres\"].values.max()"
   ]
  },
  {
   "cell_type": "code",
   "execution_count": 24,
   "id": "a4b968b3-5772-40ee-8820-1f7990aa3815",
   "metadata": {},
   "outputs": [
    {
     "data": {
      "text/plain": [
       "(0.0, 6.158819)"
      ]
     },
     "execution_count": 24,
     "metadata": {},
     "output_type": "execute_result"
    }
   ],
   "source": [
    "ds_T12[\"clwvi\"].values.min(),ds_T12[\"clwvi\"].values.max()"
   ]
  },
  {
   "cell_type": "code",
   "execution_count": 25,
   "id": "10432f65-6e9c-4125-b6b1-6d0d6c4cae4f",
   "metadata": {},
   "outputs": [
    {
     "data": {
      "text/plain": [
       "(0.0, 1.4530537)"
      ]
     },
     "execution_count": 25,
     "metadata": {},
     "output_type": "execute_result"
    }
   ],
   "source": [
    "ds_T09[\"clwvi\"].values.min(),ds_T09[\"clwvi\"].values.max()"
   ]
  },
  {
   "cell_type": "code",
   "execution_count": null,
   "id": "a6aced69-ee09-474f-b128-da7c8984392d",
   "metadata": {},
   "outputs": [],
   "source": []
  }
 ],
 "metadata": {
  "kernelspec": {
   "display_name": "Python 3",
   "language": "python",
   "name": "python3"
  },
  "language_info": {
   "codemirror_mode": {
    "name": "ipython",
    "version": 3
   },
   "file_extension": ".py",
   "mimetype": "text/x-python",
   "name": "python",
   "nbconvert_exporter": "python",
   "pygments_lexer": "ipython3",
   "version": "3.8.6"
  }
 },
 "nbformat": 4,
 "nbformat_minor": 5
}
