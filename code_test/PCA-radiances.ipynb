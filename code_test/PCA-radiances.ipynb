{
 "cells": [
  {
   "cell_type": "markdown",
   "id": "74ff2e28-6470-4306-b9c7-85ec0ef8f386",
   "metadata": {},
   "source": [
    "# PCA"
   ]
  },
  {
   "cell_type": "code",
   "execution_count": 61,
   "id": "bba8fc42-2b35-4cda-b4f6-c2f2f1110eba",
   "metadata": {},
   "outputs": [],
   "source": [
    "#X_train = data_radiances_36bands[:,-637:,:589]\n",
    "X_train = subset_data_radiances_38bands"
   ]
  },
  {
   "cell_type": "code",
   "execution_count": 62,
   "id": "1a7ea5c4-94c9-409d-ab86-33934a373b24",
   "metadata": {},
   "outputs": [
    {
     "data": {
      "text/plain": [
       "(38, 600, 600)"
      ]
     },
     "execution_count": 62,
     "metadata": {},
     "output_type": "execute_result"
    }
   ],
   "source": [
    "np.shape(X_train)"
   ]
  },
  {
   "cell_type": "code",
   "execution_count": 63,
   "id": "85e7fe26-0fd1-4dc0-9eb2-2f45cf0f30d9",
   "metadata": {},
   "outputs": [],
   "source": [
    "n_bands=len(X_train[:,0,0])"
   ]
  },
  {
   "cell_type": "code",
   "execution_count": 64,
   "id": "243edee1-c985-485d-a6d5-85b44ba0aad3",
   "metadata": {},
   "outputs": [
    {
     "name": "stdout",
     "output_type": "stream",
     "text": [
      "(360000, 38)\n"
     ]
    }
   ],
   "source": [
    "# Convert 2d band array in 1-d to make them as feature vectors and Standardization\n",
    "#https://towardsdatascience.com/principal-component-analysis-in-depth-understanding-through-image-visualization-892922f77d9f\n",
    "MB_matrix = np.zeros((X_train[0,:,:].size,n_bands))\n",
    "for i in range(n_bands):\n",
    "    MB_array = X_train[i,:,:].flatten()  # covert 2d to 1d array \n",
    "    MB_arrayStd = (MB_array - MB_array.mean())/MB_array.std()  \n",
    "    MB_matrix[:,i] = MB_arrayStd\n",
    "print(np.shape(MB_matrix))"
   ]
  },
  {
   "cell_type": "code",
   "execution_count": 75,
   "id": "07bbef42-0bfe-4e99-b6bf-4071175e49d2",
   "metadata": {},
   "outputs": [
    {
     "name": "stdout",
     "output_type": "stream",
     "text": [
      "Eigenvalues:\n",
      "\n",
      " [2.178e+01 8.112e+00 2.373e+00 1.271e+00 1.117e+00 7.348e-01 6.259e-01\n",
      " 3.906e-01 3.205e-01 2.796e-01 1.884e-01 1.854e-01 1.176e-01 1.003e-01\n",
      " 6.285e-02 6.619e-02 5.224e-02 4.444e-02 4.192e-02 3.268e-02 3.074e-02\n",
      " 2.094e-02 1.827e-02 1.067e-02 5.972e-03 4.940e-03 4.652e-03 3.940e-03\n",
      " 2.165e-03 1.182e-03 8.686e-04 5.978e-04 4.495e-04 6.429e-05 1.550e-04\n",
      " 1.685e-04 2.830e-04 2.574e-04] \n",
      "\n",
      "Percentage of Variance Explained by Each Component: \n",
      " [5.731e-01 2.135e-01 6.245e-02 3.345e-02 2.939e-02 1.934e-02 1.647e-02\n",
      " 1.028e-02 8.433e-03 7.357e-03 4.957e-03 4.880e-03 3.094e-03 2.641e-03\n",
      " 1.654e-03 1.742e-03 1.375e-03 1.169e-03 1.103e-03 8.600e-04 8.089e-04\n",
      " 5.509e-04 4.807e-04 2.808e-04 1.572e-04 1.300e-04 1.224e-04 1.037e-04\n",
      " 5.697e-05 3.111e-05 2.286e-05 1.573e-05 1.183e-05 1.692e-06 4.079e-06\n",
      " 4.434e-06 7.448e-06 6.774e-06]\n"
     ]
    }
   ],
   "source": [
    "# Covariance\n",
    "np.set_printoptions(precision=3)\n",
    "cov = np.cov(MB_matrix.transpose())\n",
    "\n",
    "# Eigen Values\n",
    "EigVal,EigVec = np.linalg.eig(cov)\n",
    "\n",
    "print(\"Eigenvalues:\\n\\n\", EigVal,\"\\n\")\n",
    "print(\"Percentage of Variance Explained by Each Component: \\n\", EigVal/sum(EigVal))"
   ]
  },
  {
   "cell_type": "code",
   "execution_count": 76,
   "id": "4de04637-dafb-4d5d-95df-80284b94895d",
   "metadata": {},
   "outputs": [
    {
     "data": {
      "text/plain": [
       "array([0.573, 0.787, 0.849, 0.882, 0.912, 0.931, 0.948, 0.958, 0.966,\n",
       "       0.974, 0.979, 0.984, 0.987, 0.989, 0.991, 0.993, 0.994, 0.995,\n",
       "       0.996, 0.997, 0.998, 0.999, 0.999, 0.999, 0.999, 1.   , 1.   ,\n",
       "       1.   , 1.   , 1.   , 1.   , 1.   , 1.   , 1.   , 1.   , 1.   ,\n",
       "       1.   , 1.   ])"
      ]
     },
     "execution_count": 76,
     "metadata": {},
     "output_type": "execute_result"
    }
   ],
   "source": [
    "tot = sum(EigVal)  #https://medium.com/luca-chuangs-bapm-notes/principal-component-analysis-pca-using-python-scikit-learn-48c4c13e49af\n",
    "var_exp = [(i / tot) for i in sorted(EigVal, reverse=True)]\n",
    "cum_var_exp = np.cumsum(var_exp)\n",
    "cum_var_exp"
   ]
  },
  {
   "cell_type": "code",
   "execution_count": 79,
   "id": "1a063057-a062-4194-b98b-16dc549c3b5e",
   "metadata": {},
   "outputs": [
    {
     "data": {
      "image/png": "[encoded data removed]",
      "text/plain": [
       "<Figure size 432x288 with 1 Axes>"
      ]
     },
     "metadata": {
      "needs_background": "light"
     },
     "output_type": "display_data"
    }
   ],
   "source": [
    "# make a bar plot of the variance associated with each component\n",
    "import matplotlib.pyplot as plt\n",
    "\n",
    "plt.bar(range(1,39), var_exp, alpha=0.5, align='center',\n",
    "        label='Individual explained variance')\n",
    "plt.step(range(1,39), cum_var_exp, where='mid',\n",
    "         label='Cumulative explained variance',\n",
    "         color='red')\n",
    "plt.ylabel('Explained variance ratio')\n",
    "plt.xlabel('Principal component index')\n",
    "plt.show()"
   ]
  },
  {
   "cell_type": "code",
   "execution_count": 66,
   "id": "8e29ba52-354c-4615-b100-4d0b6973e4e3",
   "metadata": {},
   "outputs": [],
   "source": [
    "# Ordering Eigen values and vectors\n",
    "order = EigVal.argsort()[::-1]\n",
    "EigVal = EigVal[order]\n",
    "EigVec = EigVec[:,order]\n",
    "\n",
    "#Projecting data on Eigen vector directions resulting to Principal Components \n",
    "PC = np.matmul(MB_matrix,EigVec)   #cross product"
   ]
  },
  {
   "cell_type": "code",
   "execution_count": 80,
   "id": "5180c523-1c13-4d52-8a49-cb5946b0b8cb",
   "metadata": {},
   "outputs": [
    {
     "name": "stdout",
     "output_type": "stream",
     "text": [
      "sklearn var:\n",
      " [5.731e-01 2.135e-01 6.245e-02 3.345e-02 2.939e-02 1.934e-02 1.647e-02\n",
      " 1.028e-02 8.433e-03 7.357e-03 4.957e-03 4.880e-03 3.094e-03 2.641e-03\n",
      " 1.742e-03 1.654e-03 1.375e-03 1.169e-03 1.103e-03 8.600e-04 8.089e-04\n",
      " 5.509e-04 4.807e-04 2.808e-04 1.572e-04 1.300e-04 1.224e-04 1.037e-04\n",
      " 5.697e-05 3.111e-05 2.286e-05 1.573e-05 1.183e-05 7.448e-06 6.774e-06\n",
      " 4.434e-06 4.079e-06 1.692e-06]\n",
      "numpy var: \n",
      " [5.731e-01 2.135e-01 6.245e-02 3.345e-02 2.939e-02 1.934e-02 1.647e-02\n",
      " 1.028e-02 8.433e-03 7.357e-03 4.957e-03 4.880e-03 3.094e-03 2.641e-03\n",
      " 1.654e-03 1.742e-03 1.375e-03 1.169e-03 1.103e-03 8.600e-04 8.089e-04\n",
      " 5.509e-04 4.807e-04 2.808e-04 1.572e-04 1.300e-04 1.224e-04 1.037e-04\n",
      " 5.697e-05 3.111e-05 2.286e-05 1.573e-05 1.183e-05 1.692e-06 4.079e-06\n",
      " 4.434e-06 7.448e-06 6.774e-06]\n"
     ]
    }
   ],
   "source": [
    "# PCA sklearn\n",
    "from sklearn.decomposition import PCA\n",
    "\n",
    "pca = PCA()\n",
    "\n",
    "# fit_transform() is used to calculate the PCAs from training data\n",
    "X_train_pca = pca.fit_transform(MB_matrix)\n",
    "\n",
    "# to get the fit statistics (variance explained per component)\n",
    "print(\"sklearn var:\\n\", pca.explained_variance_ratio_)\n",
    "print(\"numpy var: \\n\", EigVal/sum(EigVal))"
   ]
  },
  {
   "cell_type": "code",
   "execution_count": 81,
   "id": "a2c2aa59-10cb-4fb6-b9a0-c687b8d6b4a9",
   "metadata": {},
   "outputs": [
    {
     "data": {
      "image/png": "[encoded data removed]",
      "text/plain": [
       "<Figure size 432x288 with 1 Axes>"
      ]
     },
     "metadata": {
      "needs_background": "light"
     },
     "output_type": "display_data"
    }
   ],
   "source": [
    "# like we did above visualize the PCs \n",
    "# and the cumulative variance explained by each PC\n",
    "\n",
    "plt.bar(range(1,39), pca.explained_variance_ratio_,\n",
    "        alpha=0.5,\n",
    "        align='center')\n",
    "plt.step(range(1,39), np.cumsum(pca.explained_variance_ratio_),\n",
    "         where='mid',\n",
    "         color='red')\n",
    "plt.ylabel('Explained variance ratio')\n",
    "plt.xlabel('Principal Components')\n",
    "plt.show()"
   ]
  },
  {
   "cell_type": "code",
   "execution_count": 74,
   "id": "797663f7-8a8c-425d-a9db-b3484a610b00",
   "metadata": {},
   "outputs": [
    {
     "data": {
      "application/vnd.plotly.v1+json": {
       "config": {
        "plotlyServerURL": "https://plot.ly"
       },
       "data": [
        {
         "diagonal": {
          "visible": false
         },
         "dimensions": [
          {
           "axis": {
            "matches": true
           },
           "label": "PC 1",
           "values": [
            0.2807999582093708,
            -0.15368450240397757,
            -0.22699476201119909,
            0.09987930620580596
           ]
          },
          {
           "axis": {
            "matches": true
           },
           "label": "PC 2",
           "values": [
            -0.06824616669355307,
            -0.06821123403999628,
            0.015139651013636792,
            0.12131774971991247
           ]
          },
          {
           "axis": {
            "matches": true
           },
           "label": "PC 3",
           "values": [
            0.017831989969405614,
            -0.041322174542074507,
            0.041924351122324996,
            -0.018434166549656177
           ]
          },
          {
           "axis": {
            "matches": true
           },
           "label": "PC 4",
           "values": [
            2.2108121251800872e-16,
            2.2108121251800855e-16,
            2.2108121251800897e-16,
            2.2108121251800882e-16
           ]
          }
         ],
         "hovertemplate": "%{xaxis.title.text}=%{x}<br>%{yaxis.title.text}=%{y}<extra></extra>",
         "legendgroup": "",
         "marker": {
          "color": "#636efa",
          "symbol": "circle"
         },
         "name": "",
         "showlegend": false,
         "type": "splom"
        }
       ],
       "layout": {
        "dragmode": "select",
        "legend": {
         "tracegroupgap": 0
        },
        "template": {
         "data": {
          "bar": [
           {
            "error_x": {
             "color": "#2a3f5f"
            },
            "error_y": {
             "color": "#2a3f5f"
            },
            "marker": {
             "line": {
              "color": "#E5ECF6",
              "width": 0.5
             },
             "pattern": {
              "fillmode": "overlay",
              "size": 10,
              "solidity": 0.2
             }
            },
            "type": "bar"
           }
          ],
          "barpolar": [
           {
            "marker": {
             "line": {
              "color": "#E5ECF6",
              "width": 0.5
             },
             "pattern": {
              "fillmode": "overlay",
              "size": 10,
              "solidity": 0.2
             }
            },
            "type": "barpolar"
           }
          ],
          "carpet": [
           {
            "aaxis": {
             "endlinecolor": "#2a3f5f",
             "gridcolor": "white",
             "linecolor": "white",
             "minorgridcolor": "white",
             "startlinecolor": "#2a3f5f"
            },
            "baxis": {
             "endlinecolor": "#2a3f5f",
             "gridcolor": "white",
             "linecolor": "white",
             "minorgridcolor": "white",
             "startlinecolor": "#2a3f5f"
            },
            "type": "carpet"
           }
          ],
          "choropleth": [
           {
            "colorbar": {
             "outlinewidth": 0,
             "ticks": ""
            },
            "type": "choropleth"
           }
          ],
          "contour": [
           {
            "colorbar": {
             "outlinewidth": 0,
             "ticks": ""
            },
            "colorscale": [
             [
              0,
              "#0d0887"
             ],
             [
              0.1111111111111111,
              "#46039f"
             ],
             [
              0.2222222222222222,
              "#7201a8"
             ],
             [
              0.3333333333333333,
              "#9c179e"
             ],
             [
              0.4444444444444444,
              "#bd3786"
             ],
             [
              0.5555555555555556,
              "#d8576b"
             ],
             [
              0.6666666666666666,
              "#ed7953"
             ],
             [
              0.7777777777777778,
              "#fb9f3a"
             ],
             [
              0.8888888888888888,
              "#fdca26"
             ],
             [
              1,
              "#f0f921"
             ]
            ],
            "type": "contour"
           }
          ],
          "contourcarpet": [
           {
            "colorbar": {
             "outlinewidth": 0,
             "ticks": ""
            },
            "type": "contourcarpet"
           }
          ],
          "heatmap": [
           {
            "colorbar": {
             "outlinewidth": 0,
             "ticks": ""
            },
            "colorscale": [
             [
              0,
              "#0d0887"
             ],
             [
              0.1111111111111111,
              "#46039f"
             ],
             [
              0.2222222222222222,
              "#7201a8"
             ],
             [
              0.3333333333333333,
              "#9c179e"
             ],
             [
              0.4444444444444444,
              "#bd3786"
             ],
             [
              0.5555555555555556,
              "#d8576b"
             ],
             [
              0.6666666666666666,
              "#ed7953"
             ],
             [
              0.7777777777777778,
              "#fb9f3a"
             ],
             [
              0.8888888888888888,
              "#fdca26"
             ],
             [
              1,
              "#f0f921"
             ]
            ],
            "type": "heatmap"
           }
          ],
          "heatmapgl": [
           {
            "colorbar": {
             "outlinewidth": 0,
             "ticks": ""
            },
            "colorscale": [
             [
              0,
              "#0d0887"
             ],
             [
              0.1111111111111111,
              "#46039f"
             ],
             [
              0.2222222222222222,
              "#7201a8"
             ],
             [
              0.3333333333333333,
              "#9c179e"
             ],
             [
              0.4444444444444444,
              "#bd3786"
             ],
             [
              0.5555555555555556,
              "#d8576b"
             ],
             [
              0.6666666666666666,
              "#ed7953"
             ],
             [
              0.7777777777777778,
              "#fb9f3a"
             ],
             [
              0.8888888888888888,
              "#fdca26"
             ],
             [
              1,
              "#f0f921"
             ]
            ],
            "type": "heatmapgl"
           }
          ],
          "histogram": [
           {
            "marker": {
             "pattern": {
              "fillmode": "overlay",
              "size": 10,
              "solidity": 0.2
             }
            },
            "type": "histogram"
           }
          ],
          "histogram2d": [
           {
            "colorbar": {
             "outlinewidth": 0,
             "ticks": ""
            },
            "colorscale": [
             [
              0,
              "#0d0887"
             ],
             [
              0.1111111111111111,
              "#46039f"
             ],
             [
              0.2222222222222222,
              "#7201a8"
             ],
             [
              0.3333333333333333,
              "#9c179e"
             ],
             [
              0.4444444444444444,
              "#bd3786"
             ],
             [
              0.5555555555555556,
              "#d8576b"
             ],
             [
              0.6666666666666666,
              "#ed7953"
             ],
             [
              0.7777777777777778,
              "#fb9f3a"
             ],
             [
              0.8888888888888888,
              "#fdca26"
             ],
             [
              1,
              "#f0f921"
             ]
            ],
            "type": "histogram2d"
           }
          ],
          "histogram2dcontour": [
           {
            "colorbar": {
             "outlinewidth": 0,
             "ticks": ""
            },
            "colorscale": [
             [
              0,
              "#0d0887"
             ],
             [
              0.1111111111111111,
              "#46039f"
             ],
             [
              0.2222222222222222,
              "#7201a8"
             ],
             [
              0.3333333333333333,
              "#9c179e"
             ],
             [
              0.4444444444444444,
              "#bd3786"
             ],
             [
              0.5555555555555556,
              "#d8576b"
             ],
             [
              0.6666666666666666,
              "#ed7953"
             ],
             [
              0.7777777777777778,
              "#fb9f3a"
             ],
             [
              0.8888888888888888,
              "#fdca26"
             ],
             [
              1,
              "#f0f921"
             ]
            ],
            "type": "histogram2dcontour"
           }
          ],
          "mesh3d": [
           {
            "colorbar": {
             "outlinewidth": 0,
             "ticks": ""
            },
            "type": "mesh3d"
           }
          ],
          "parcoords": [
           {
            "line": {
             "colorbar": {
              "outlinewidth": 0,
              "ticks": ""
             }
            },
            "type": "parcoords"
           }
          ],
          "pie": [
           {
            "automargin": true,
            "type": "pie"
           }
          ],
          "scatter": [
           {
            "marker": {
             "colorbar": {
              "outlinewidth": 0,
              "ticks": ""
             }
            },
            "type": "scatter"
           }
          ],
          "scatter3d": [
           {
            "line": {
             "colorbar": {
              "outlinewidth": 0,
              "ticks": ""
             }
            },
            "marker": {
             "colorbar": {
              "outlinewidth": 0,
              "ticks": ""
             }
            },
            "type": "scatter3d"
           }
          ],
          "scattercarpet": [
           {
            "marker": {
             "colorbar": {
              "outlinewidth": 0,
              "ticks": ""
             }
            },
            "type": "scattercarpet"
           }
          ],
          "scattergeo": [
           {
            "marker": {
             "colorbar": {
              "outlinewidth": 0,
              "ticks": ""
             }
            },
            "type": "scattergeo"
           }
          ],
          "scattergl": [
           {
            "marker": {
             "colorbar": {
              "outlinewidth": 0,
              "ticks": ""
             }
            },
            "type": "scattergl"
           }
          ],
          "scattermapbox": [
           {
            "marker": {
             "colorbar": {
              "outlinewidth": 0,
              "ticks": ""
             }
            },
            "type": "scattermapbox"
           }
          ],
          "scatterpolar": [
           {
            "marker": {
             "colorbar": {
              "outlinewidth": 0,
              "ticks": ""
             }
            },
            "type": "scatterpolar"
           }
          ],
          "scatterpolargl": [
           {
            "marker": {
             "colorbar": {
              "outlinewidth": 0,
              "ticks": ""
             }
            },
            "type": "scatterpolargl"
           }
          ],
          "scatterternary": [
           {
            "marker": {
             "colorbar": {
              "outlinewidth": 0,
              "ticks": ""
             }
            },
            "type": "scatterternary"
           }
          ],
          "surface": [
           {
            "colorbar": {
             "outlinewidth": 0,
             "ticks": ""
            },
            "colorscale": [
             [
              0,
              "#0d0887"
             ],
             [
              0.1111111111111111,
              "#46039f"
             ],
             [
              0.2222222222222222,
              "#7201a8"
             ],
             [
              0.3333333333333333,
              "#9c179e"
             ],
             [
              0.4444444444444444,
              "#bd3786"
             ],
             [
              0.5555555555555556,
              "#d8576b"
             ],
             [
              0.6666666666666666,
              "#ed7953"
             ],
             [
              0.7777777777777778,
              "#fb9f3a"
             ],
             [
              0.8888888888888888,
              "#fdca26"
             ],
             [
              1,
              "#f0f921"
             ]
            ],
            "type": "surface"
           }
          ],
          "table": [
           {
            "cells": {
             "fill": {
              "color": "#EBF0F8"
             },
             "line": {
              "color": "white"
             }
            },
            "header": {
             "fill": {
              "color": "#C8D4E3"
             },
             "line": {
              "color": "white"
             }
            },
            "type": "table"
           }
          ]
         },
         "layout": {
          "annotationdefaults": {
           "arrowcolor": "#2a3f5f",
           "arrowhead": 0,
           "arrowwidth": 1
          },
          "autotypenumbers": "strict",
          "coloraxis": {
           "colorbar": {
            "outlinewidth": 0,
            "ticks": ""
           }
          },
          "colorscale": {
           "diverging": [
            [
             0,
             "#8e0152"
            ],
            [
             0.1,
             "#c51b7d"
            ],
            [
             0.2,
             "#de77ae"
            ],
            [
             0.3,
             "#f1b6da"
            ],
            [
             0.4,
             "#fde0ef"
            ],
            [
             0.5,
             "#f7f7f7"
            ],
            [
             0.6,
             "#e6f5d0"
            ],
            [
             0.7,
             "#b8e186"
            ],
            [
             0.8,
             "#7fbc41"
            ],
            [
             0.9,
             "#4d9221"
            ],
            [
             1,
             "#276419"
            ]
           ],
           "sequential": [
            [
             0,
             "#0d0887"
            ],
            [
             0.1111111111111111,
             "#46039f"
            ],
            [
             0.2222222222222222,
             "#7201a8"
            ],
            [
             0.3333333333333333,
             "#9c179e"
            ],
            [
             0.4444444444444444,
             "#bd3786"
            ],
            [
             0.5555555555555556,
             "#d8576b"
            ],
            [
             0.6666666666666666,
             "#ed7953"
            ],
            [
             0.7777777777777778,
             "#fb9f3a"
            ],
            [
             0.8888888888888888,
             "#fdca26"
            ],
            [
             1,
             "#f0f921"
            ]
           ],
           "sequentialminus": [
            [
             0,
             "#0d0887"
            ],
            [
             0.1111111111111111,
             "#46039f"
            ],
            [
             0.2222222222222222,
             "#7201a8"
            ],
            [
             0.3333333333333333,
             "#9c179e"
            ],
            [
             0.4444444444444444,
             "#bd3786"
            ],
            [
             0.5555555555555556,
             "#d8576b"
            ],
            [
             0.6666666666666666,
             "#ed7953"
            ],
            [
             0.7777777777777778,
             "#fb9f3a"
            ],
            [
             0.8888888888888888,
             "#fdca26"
            ],
            [
             1,
             "#f0f921"
            ]
           ]
          },
          "colorway": [
           "#636efa",
           "#EF553B",
           "#00cc96",
           "#ab63fa",
           "#FFA15A",
           "#19d3f3",
           "#FF6692",
           "#B6E880",
           "#FF97FF",
           "#FECB52"
          ],
          "font": {
           "color": "#2a3f5f"
          },
          "geo": {
           "bgcolor": "white",
           "lakecolor": "white",
           "landcolor": "#E5ECF6",
           "showlakes": true,
           "showland": true,
           "subunitcolor": "white"
          },
          "hoverlabel": {
           "align": "left"
          },
          "hovermode": "closest",
          "mapbox": {
           "style": "light"
          },
          "paper_bgcolor": "white",
          "plot_bgcolor": "#E5ECF6",
          "polar": {
           "angularaxis": {
            "gridcolor": "white",
            "linecolor": "white",
            "ticks": ""
           },
           "bgcolor": "#E5ECF6",
           "radialaxis": {
            "gridcolor": "white",
            "linecolor": "white",
            "ticks": ""
           }
          },
          "scene": {
           "xaxis": {
            "backgroundcolor": "#E5ECF6",
            "gridcolor": "white",
            "gridwidth": 2,
            "linecolor": "white",
            "showbackground": true,
            "ticks": "",
            "zerolinecolor": "white"
           },
           "yaxis": {
            "backgroundcolor": "#E5ECF6",
            "gridcolor": "white",
            "gridwidth": 2,
            "linecolor": "white",
            "showbackground": true,
            "ticks": "",
            "zerolinecolor": "white"
           },
           "zaxis": {
            "backgroundcolor": "#E5ECF6",
            "gridcolor": "white",
            "gridwidth": 2,
            "linecolor": "white",
            "showbackground": true,
            "ticks": "",
            "zerolinecolor": "white"
           }
          },
          "shapedefaults": {
           "line": {
            "color": "#2a3f5f"
           }
          },
          "ternary": {
           "aaxis": {
            "gridcolor": "white",
            "linecolor": "white",
            "ticks": ""
           },
           "baxis": {
            "gridcolor": "white",
            "linecolor": "white",
            "ticks": ""
           },
           "bgcolor": "#E5ECF6",
           "caxis": {
            "gridcolor": "white",
            "linecolor": "white",
            "ticks": ""
           }
          },
          "title": {
           "x": 0.05
          },
          "xaxis": {
           "automargin": true,
           "gridcolor": "white",
           "linecolor": "white",
           "ticks": "",
           "title": {
            "standoff": 15
           },
           "zerolinecolor": "white",
           "zerolinewidth": 2
          },
          "yaxis": {
           "automargin": true,
           "gridcolor": "white",
           "linecolor": "white",
           "ticks": "",
           "title": {
            "standoff": 15
           },
           "zerolinecolor": "white",
           "zerolinewidth": 2
          }
         }
        },
        "title": {
         "text": "Total Explained Variance: 100.00%"
        }
       }
      },
      "text/html": [
       "<div>                            <div id=\"7e90b0c2-f1f2-4b18-970b-0d1b3517f533\" class=\"plotly-graph-div\" style=\"height:525px; width:100%;\"></div>            <script type=\"text/javascript\">                require([\"plotly\"], function(Plotly) {                    window.PLOTLYENV=window.PLOTLYENV || {};                                    if (document.getElementById(\"7e90b0c2-f1f2-4b18-970b-0d1b3517f533\")) {                    Plotly.newPlot(                        \"7e90b0c2-f1f2-4b18-970b-0d1b3517f533\",                        [{\"diagonal\":{\"visible\":false},\"dimensions\":[{\"axis\":{\"matches\":true},\"label\":\"PC 1\",\"values\":[0.2807999582093708,-0.15368450240397757,-0.22699476201119909,0.09987930620580596]},{\"axis\":{\"matches\":true},\"label\":\"PC 2\",\"values\":[-0.06824616669355307,-0.06821123403999628,0.015139651013636792,0.12131774971991247]},{\"axis\":{\"matches\":true},\"label\":\"PC 3\",\"values\":[0.017831989969405614,-0.041322174542074507,0.041924351122324996,-0.018434166549656177]},{\"axis\":{\"matches\":true},\"label\":\"PC 4\",\"values\":[2.2108121251800872e-16,2.2108121251800855e-16,2.2108121251800897e-16,2.2108121251800882e-16]}],\"hovertemplate\":\"%{xaxis.title.text}=%{x}<br>%{yaxis.title.text}=%{y}<extra></extra>\",\"legendgroup\":\"\",\"marker\":{\"color\":\"#636efa\",\"symbol\":\"circle\"},\"name\":\"\",\"showlegend\":false,\"type\":\"splom\"}],                        {\"dragmode\":\"select\",\"legend\":{\"tracegroupgap\":0},\"template\":{\"data\":{\"bar\":[{\"error_x\":{\"color\":\"#2a3f5f\"},\"error_y\":{\"color\":\"#2a3f5f\"},\"marker\":{\"line\":{\"color\":\"#E5ECF6\",\"width\":0.5},\"pattern\":{\"fillmode\":\"overlay\",\"size\":10,\"solidity\":0.2}},\"type\":\"bar\"}],\"barpolar\":[{\"marker\":{\"line\":{\"color\":\"#E5ECF6\",\"width\":0.5},\"pattern\":{\"fillmode\":\"overlay\",\"size\":10,\"solidity\":0.2}},\"type\":\"barpolar\"}],\"carpet\":[{\"aaxis\":{\"endlinecolor\":\"#2a3f5f\",\"gridcolor\":\"white\",\"linecolor\":\"white\",\"minorgridcolor\":\"white\",\"startlinecolor\":\"#2a3f5f\"},\"baxis\":{\"endlinecolor\":\"#2a3f5f\",\"gridcolor\":\"white\",\"linecolor\":\"white\",\"minorgridcolor\":\"white\",\"startlinecolor\":\"#2a3f5f\"},\"type\":\"carpet\"}],\"choropleth\":[{\"colorbar\":{\"outlinewidth\":0,\"ticks\":\"\"},\"type\":\"choropleth\"}],\"contour\":[{\"colorbar\":{\"outlinewidth\":0,\"ticks\":\"\"},\"colorscale\":[[0.0,\"#0d0887\"],[0.1111111111111111,\"#46039f\"],[0.2222222222222222,\"#7201a8\"],[0.3333333333333333,\"#9c179e\"],[0.4444444444444444,\"#bd3786\"],[0.5555555555555556,\"#d8576b\"],[0.6666666666666666,\"#ed7953\"],[0.7777777777777778,\"#fb9f3a\"],[0.8888888888888888,\"#fdca26\"],[1.0,\"#f0f921\"]],\"type\":\"contour\"}],\"contourcarpet\":[{\"colorbar\":{\"outlinewidth\":0,\"ticks\":\"\"},\"type\":\"contourcarpet\"}],\"heatmap\":[{\"colorbar\":{\"outlinewidth\":0,\"ticks\":\"\"},\"colorscale\":[[0.0,\"#0d0887\"],[0.1111111111111111,\"#46039f\"],[0.2222222222222222,\"#7201a8\"],[0.3333333333333333,\"#9c179e\"],[0.4444444444444444,\"#bd3786\"],[0.5555555555555556,\"#d8576b\"],[0.6666666666666666,\"#ed7953\"],[0.7777777777777778,\"#fb9f3a\"],[0.8888888888888888,\"#fdca26\"],[1.0,\"#f0f921\"]],\"type\":\"heatmap\"}],\"heatmapgl\":[{\"colorbar\":{\"outlinewidth\":0,\"ticks\":\"\"},\"colorscale\":[[0.0,\"#0d0887\"],[0.1111111111111111,\"#46039f\"],[0.2222222222222222,\"#7201a8\"],[0.3333333333333333,\"#9c179e\"],[0.4444444444444444,\"#bd3786\"],[0.5555555555555556,\"#d8576b\"],[0.6666666666666666,\"#ed7953\"],[0.7777777777777778,\"#fb9f3a\"],[0.8888888888888888,\"#fdca26\"],[1.0,\"#f0f921\"]],\"type\":\"heatmapgl\"}],\"histogram\":[{\"marker\":{\"pattern\":{\"fillmode\":\"overlay\",\"size\":10,\"solidity\":0.2}},\"type\":\"histogram\"}],\"histogram2d\":[{\"colorbar\":{\"outlinewidth\":0,\"ticks\":\"\"},\"colorscale\":[[0.0,\"#0d0887\"],[0.1111111111111111,\"#46039f\"],[0.2222222222222222,\"#7201a8\"],[0.3333333333333333,\"#9c179e\"],[0.4444444444444444,\"#bd3786\"],[0.5555555555555556,\"#d8576b\"],[0.6666666666666666,\"#ed7953\"],[0.7777777777777778,\"#fb9f3a\"],[0.8888888888888888,\"#fdca26\"],[1.0,\"#f0f921\"]],\"type\":\"histogram2d\"}],\"histogram2dcontour\":[{\"colorbar\":{\"outlinewidth\":0,\"ticks\":\"\"},\"colorscale\":[[0.0,\"#0d0887\"],[0.1111111111111111,\"#46039f\"],[0.2222222222222222,\"#7201a8\"],[0.3333333333333333,\"#9c179e\"],[0.4444444444444444,\"#bd3786\"],[0.5555555555555556,\"#d8576b\"],[0.6666666666666666,\"#ed7953\"],[0.7777777777777778,\"#fb9f3a\"],[0.8888888888888888,\"#fdca26\"],[1.0,\"#f0f921\"]],\"type\":\"histogram2dcontour\"}],\"mesh3d\":[{\"colorbar\":{\"outlinewidth\":0,\"ticks\":\"\"},\"type\":\"mesh3d\"}],\"parcoords\":[{\"line\":{\"colorbar\":{\"outlinewidth\":0,\"ticks\":\"\"}},\"type\":\"parcoords\"}],\"pie\":[{\"automargin\":true,\"type\":\"pie\"}],\"scatter\":[{\"marker\":{\"colorbar\":{\"outlinewidth\":0,\"ticks\":\"\"}},\"type\":\"scatter\"}],\"scatter3d\":[{\"line\":{\"colorbar\":{\"outlinewidth\":0,\"ticks\":\"\"}},\"marker\":{\"colorbar\":{\"outlinewidth\":0,\"ticks\":\"\"}},\"type\":\"scatter3d\"}],\"scattercarpet\":[{\"marker\":{\"colorbar\":{\"outlinewidth\":0,\"ticks\":\"\"}},\"type\":\"scattercarpet\"}],\"scattergeo\":[{\"marker\":{\"colorbar\":{\"outlinewidth\":0,\"ticks\":\"\"}},\"type\":\"scattergeo\"}],\"scattergl\":[{\"marker\":{\"colorbar\":{\"outlinewidth\":0,\"ticks\":\"\"}},\"type\":\"scattergl\"}],\"scattermapbox\":[{\"marker\":{\"colorbar\":{\"outlinewidth\":0,\"ticks\":\"\"}},\"type\":\"scattermapbox\"}],\"scatterpolar\":[{\"marker\":{\"colorbar\":{\"outlinewidth\":0,\"ticks\":\"\"}},\"type\":\"scatterpolar\"}],\"scatterpolargl\":[{\"marker\":{\"colorbar\":{\"outlinewidth\":0,\"ticks\":\"\"}},\"type\":\"scatterpolargl\"}],\"scatterternary\":[{\"marker\":{\"colorbar\":{\"outlinewidth\":0,\"ticks\":\"\"}},\"type\":\"scatterternary\"}],\"surface\":[{\"colorbar\":{\"outlinewidth\":0,\"ticks\":\"\"},\"colorscale\":[[0.0,\"#0d0887\"],[0.1111111111111111,\"#46039f\"],[0.2222222222222222,\"#7201a8\"],[0.3333333333333333,\"#9c179e\"],[0.4444444444444444,\"#bd3786\"],[0.5555555555555556,\"#d8576b\"],[0.6666666666666666,\"#ed7953\"],[0.7777777777777778,\"#fb9f3a\"],[0.8888888888888888,\"#fdca26\"],[1.0,\"#f0f921\"]],\"type\":\"surface\"}],\"table\":[{\"cells\":{\"fill\":{\"color\":\"#EBF0F8\"},\"line\":{\"color\":\"white\"}},\"header\":{\"fill\":{\"color\":\"#C8D4E3\"},\"line\":{\"color\":\"white\"}},\"type\":\"table\"}]},\"layout\":{\"annotationdefaults\":{\"arrowcolor\":\"#2a3f5f\",\"arrowhead\":0,\"arrowwidth\":1},\"autotypenumbers\":\"strict\",\"coloraxis\":{\"colorbar\":{\"outlinewidth\":0,\"ticks\":\"\"}},\"colorscale\":{\"diverging\":[[0,\"#8e0152\"],[0.1,\"#c51b7d\"],[0.2,\"#de77ae\"],[0.3,\"#f1b6da\"],[0.4,\"#fde0ef\"],[0.5,\"#f7f7f7\"],[0.6,\"#e6f5d0\"],[0.7,\"#b8e186\"],[0.8,\"#7fbc41\"],[0.9,\"#4d9221\"],[1,\"#276419\"]],\"sequential\":[[0.0,\"#0d0887\"],[0.1111111111111111,\"#46039f\"],[0.2222222222222222,\"#7201a8\"],[0.3333333333333333,\"#9c179e\"],[0.4444444444444444,\"#bd3786\"],[0.5555555555555556,\"#d8576b\"],[0.6666666666666666,\"#ed7953\"],[0.7777777777777778,\"#fb9f3a\"],[0.8888888888888888,\"#fdca26\"],[1.0,\"#f0f921\"]],\"sequentialminus\":[[0.0,\"#0d0887\"],[0.1111111111111111,\"#46039f\"],[0.2222222222222222,\"#7201a8\"],[0.3333333333333333,\"#9c179e\"],[0.4444444444444444,\"#bd3786\"],[0.5555555555555556,\"#d8576b\"],[0.6666666666666666,\"#ed7953\"],[0.7777777777777778,\"#fb9f3a\"],[0.8888888888888888,\"#fdca26\"],[1.0,\"#f0f921\"]]},\"colorway\":[\"#636efa\",\"#EF553B\",\"#00cc96\",\"#ab63fa\",\"#FFA15A\",\"#19d3f3\",\"#FF6692\",\"#B6E880\",\"#FF97FF\",\"#FECB52\"],\"font\":{\"color\":\"#2a3f5f\"},\"geo\":{\"bgcolor\":\"white\",\"lakecolor\":\"white\",\"landcolor\":\"#E5ECF6\",\"showlakes\":true,\"showland\":true,\"subunitcolor\":\"white\"},\"hoverlabel\":{\"align\":\"left\"},\"hovermode\":\"closest\",\"mapbox\":{\"style\":\"light\"},\"paper_bgcolor\":\"white\",\"plot_bgcolor\":\"#E5ECF6\",\"polar\":{\"angularaxis\":{\"gridcolor\":\"white\",\"linecolor\":\"white\",\"ticks\":\"\"},\"bgcolor\":\"#E5ECF6\",\"radialaxis\":{\"gridcolor\":\"white\",\"linecolor\":\"white\",\"ticks\":\"\"}},\"scene\":{\"xaxis\":{\"backgroundcolor\":\"#E5ECF6\",\"gridcolor\":\"white\",\"gridwidth\":2,\"linecolor\":\"white\",\"showbackground\":true,\"ticks\":\"\",\"zerolinecolor\":\"white\"},\"yaxis\":{\"backgroundcolor\":\"#E5ECF6\",\"gridcolor\":\"white\",\"gridwidth\":2,\"linecolor\":\"white\",\"showbackground\":true,\"ticks\":\"\",\"zerolinecolor\":\"white\"},\"zaxis\":{\"backgroundcolor\":\"#E5ECF6\",\"gridcolor\":\"white\",\"gridwidth\":2,\"linecolor\":\"white\",\"showbackground\":true,\"ticks\":\"\",\"zerolinecolor\":\"white\"}},\"shapedefaults\":{\"line\":{\"color\":\"#2a3f5f\"}},\"ternary\":{\"aaxis\":{\"gridcolor\":\"white\",\"linecolor\":\"white\",\"ticks\":\"\"},\"baxis\":{\"gridcolor\":\"white\",\"linecolor\":\"white\",\"ticks\":\"\"},\"bgcolor\":\"#E5ECF6\",\"caxis\":{\"gridcolor\":\"white\",\"linecolor\":\"white\",\"ticks\":\"\"}},\"title\":{\"x\":0.05},\"xaxis\":{\"automargin\":true,\"gridcolor\":\"white\",\"linecolor\":\"white\",\"ticks\":\"\",\"title\":{\"standoff\":15},\"zerolinecolor\":\"white\",\"zerolinewidth\":2},\"yaxis\":{\"automargin\":true,\"gridcolor\":\"white\",\"linecolor\":\"white\",\"ticks\":\"\",\"title\":{\"standoff\":15},\"zerolinecolor\":\"white\",\"zerolinewidth\":2}}},\"title\":{\"text\":\"Total Explained Variance: 100.00%\"}},                        {\"responsive\": true}                    ).then(function(){\n",
       "                            \n",
       "var gd = document.getElementById('7e90b0c2-f1f2-4b18-970b-0d1b3517f533');\n",
       "var x = new MutationObserver(function (mutations, observer) {{\n",
       "        var display = window.getComputedStyle(gd).display;\n",
       "        if (!display || display === 'none') {{\n",
       "            console.log([gd, 'removed!']);\n",
       "            Plotly.purge(gd);\n",
       "            observer.disconnect();\n",
       "        }}\n",
       "}});\n",
       "\n",
       "// Listen for the removal of the full notebook cells\n",
       "var notebookContainer = gd.closest('#notebook-container');\n",
       "if (notebookContainer) {{\n",
       "    x.observe(notebookContainer, {childList: true});\n",
       "}}\n",
       "\n",
       "// Listen for the clearing of the current output cell\n",
       "var outputEl = gd.closest('.output');\n",
       "if (outputEl) {{\n",
       "    x.observe(outputEl, {childList: true});\n",
       "}}\n",
       "\n",
       "                        })                };                });            </script>        </div>"
      ]
     },
     "metadata": {},
     "output_type": "display_data"
    }
   ],
   "source": [
    "import pandas as pd  #https://plotly.com/python/pca-visualization/\n",
    "import plotly.express as px\n",
    "from sklearn.decomposition import PCA\n",
    "from sklearn.datasets import load_boston\n",
    "\n",
    "#boston = load_boston()\n",
    "df = MB_matrix[:4,:500] #pd.DataFrame(boston.data, columns=boston.feature_names)\n",
    "n_components = 4\n",
    "\n",
    "pca = PCA(n_components=n_components)\n",
    "components = pca.fit_transform(df)\n",
    "\n",
    "total_var = pca.explained_variance_ratio_.sum() * 100\n",
    "\n",
    "labels = {str(i): f\"PC {i+1}\" for i in range(n_components)}\n",
    "labels['color'] = 'Median Price'\n",
    "\n",
    "fig = px.scatter_matrix(\n",
    "    components,\n",
    "    #color=boston.target,\n",
    "    dimensions=range(n_components),\n",
    "    labels=labels,\n",
    "    title=f'Total Explained Variance: {total_var:.2f}%',\n",
    ")\n",
    "fig.update_traces(diagonal_visible=False)\n",
    "fig.show()"
   ]
  },
  {
   "cell_type": "markdown",
   "id": "006ded76-7758-4b21-8c10-68de88a30078",
   "metadata": {},
   "source": [
    "### other methods "
   ]
  },
  {
   "cell_type": "code",
   "execution_count": 92,
   "id": "0de115be-42ef-4951-91fb-298b157228db",
   "metadata": {},
   "outputs": [
    {
     "ename": "MemoryError",
     "evalue": "Unable to allocate 966. GiB for an array with shape (360000, 360000) and data type float64",
     "output_type": "error",
     "traceback": [
      "\u001b[0;31m---------------------------------------------------------------------------\u001b[0m",
      "\u001b[0;31mMemoryError\u001b[0m                               Traceback (most recent call last)",
      "\u001b[0;32m<ipython-input-92-d9bb15d29827>\u001b[0m in \u001b[0;36m<module>\u001b[0;34m\u001b[0m\n\u001b[1;32m      9\u001b[0m \u001b[0;34m\u001b[0m\u001b[0m\n\u001b[1;32m     10\u001b[0m \u001b[0miso\u001b[0m \u001b[0;34m=\u001b[0m \u001b[0mmanifold\u001b[0m\u001b[0;34m.\u001b[0m\u001b[0mIsomap\u001b[0m\u001b[0;34m(\u001b[0m\u001b[0mn_neighbors\u001b[0m\u001b[0;34m=\u001b[0m\u001b[0;36m6\u001b[0m\u001b[0;34m,\u001b[0m \u001b[0mn_components\u001b[0m\u001b[0;34m=\u001b[0m\u001b[0;36m2\u001b[0m\u001b[0;34m)\u001b[0m\u001b[0;34m\u001b[0m\u001b[0;34m\u001b[0m\u001b[0m\n\u001b[0;32m---> 11\u001b[0;31m \u001b[0miso\u001b[0m\u001b[0;34m.\u001b[0m\u001b[0mfit\u001b[0m\u001b[0;34m(\u001b[0m\u001b[0mMB_matrix\u001b[0m\u001b[0;34m)\u001b[0m\u001b[0;34m\u001b[0m\u001b[0;34m\u001b[0m\u001b[0m\n\u001b[0m\u001b[1;32m     12\u001b[0m \u001b[0mmanifold_iso_data\u001b[0m \u001b[0;34m=\u001b[0m \u001b[0miso\u001b[0m\u001b[0;34m.\u001b[0m\u001b[0mtransform\u001b[0m\u001b[0;34m(\u001b[0m\u001b[0mMB_matrix\u001b[0m\u001b[0;34m)\u001b[0m\u001b[0;34m\u001b[0m\u001b[0;34m\u001b[0m\u001b[0m\n",
      "\u001b[0;32m~/miniconda3/envs/modis/lib/python3.8/site-packages/sklearn/manifold/_isomap.py\u001b[0m in \u001b[0;36mfit\u001b[0;34m(self, X, y)\u001b[0m\n\u001b[1;32m    219\u001b[0m         \u001b[0mself\u001b[0m \u001b[0;34m:\u001b[0m \u001b[0mreturns\u001b[0m \u001b[0man\u001b[0m \u001b[0minstance\u001b[0m \u001b[0mof\u001b[0m \u001b[0mself\u001b[0m\u001b[0;34m.\u001b[0m\u001b[0;34m\u001b[0m\u001b[0;34m\u001b[0m\u001b[0m\n\u001b[1;32m    220\u001b[0m         \"\"\"\n\u001b[0;32m--> 221\u001b[0;31m         \u001b[0mself\u001b[0m\u001b[0;34m.\u001b[0m\u001b[0m_fit_transform\u001b[0m\u001b[0;34m(\u001b[0m\u001b[0mX\u001b[0m\u001b[0;34m)\u001b[0m\u001b[0;34m\u001b[0m\u001b[0;34m\u001b[0m\u001b[0m\n\u001b[0m\u001b[1;32m    222\u001b[0m         \u001b[0;32mreturn\u001b[0m \u001b[0mself\u001b[0m\u001b[0;34m\u001b[0m\u001b[0;34m\u001b[0m\u001b[0m\n\u001b[1;32m    223\u001b[0m \u001b[0;34m\u001b[0m\u001b[0m\n",
      "\u001b[0;32m~/miniconda3/envs/modis/lib/python3.8/site-packages/sklearn/manifold/_isomap.py\u001b[0m in \u001b[0;36m_fit_transform\u001b[0;34m(self, X)\u001b[0m\n\u001b[1;32m    161\u001b[0m                                mode='distance', n_jobs=self.n_jobs)\n\u001b[1;32m    162\u001b[0m \u001b[0;34m\u001b[0m\u001b[0m\n\u001b[0;32m--> 163\u001b[0;31m         self.dist_matrix_ = graph_shortest_path(kng,\n\u001b[0m\u001b[1;32m    164\u001b[0m                                                 \u001b[0mmethod\u001b[0m\u001b[0;34m=\u001b[0m\u001b[0mself\u001b[0m\u001b[0;34m.\u001b[0m\u001b[0mpath_method\u001b[0m\u001b[0;34m,\u001b[0m\u001b[0;34m\u001b[0m\u001b[0;34m\u001b[0m\u001b[0m\n\u001b[1;32m    165\u001b[0m                                                 directed=False)\n",
      "\u001b[0;32msklearn/utils/graph_shortest_path.pyx\u001b[0m in \u001b[0;36msklearn.utils.graph_shortest_path.graph_shortest_path\u001b[0;34m()\u001b[0m\n",
      "\u001b[0;31mMemoryError\u001b[0m: Unable to allocate 966. GiB for an array with shape (360000, 360000) and data type float64"
     ]
    }
   ],
   "source": [
    "from sklearn.manifold import TSNE\n",
    "from sklearn import manifold\n",
    "\n",
    "##############\n",
    "######\n",
    "#ISOMAP\n",
    "######\n",
    "##############\n",
    "\n",
    "iso = manifold.Isomap(n_neighbors=6, n_components=2)\n",
    "iso.fit(MB_matrix)\n",
    "manifold_iso_data = iso.transform(MB_matrix)"
   ]
  },
  {
   "cell_type": "code",
   "execution_count": 377,
   "id": "fbb1168a-52d9-48ad-8bd6-082e8aa3b6e2",
   "metadata": {},
   "outputs": [],
   "source": [
    "from sklearn.datasets import make_swiss_roll\n",
    "n_samples = 2500\n",
    "X, color = make_swiss_roll(n_samples)"
   ]
  },
  {
   "cell_type": "code",
   "execution_count": 378,
   "id": "df241d10-585f-436d-abf8-88384575fbf3",
   "metadata": {},
   "outputs": [
    {
     "ename": "NameError",
     "evalue": "name 'manifold_iso_data' is not defined",
     "output_type": "error",
     "traceback": [
      "\u001b[1;31m---------------------------------------------------------------------------\u001b[0m",
      "\u001b[1;31mNameError\u001b[0m                                 Traceback (most recent call last)",
      "\u001b[1;32m<ipython-input-378-df0e8c5ab5ec>\u001b[0m in \u001b[0;36m<module>\u001b[1;34m\u001b[0m\n\u001b[0;32m     10\u001b[0m \u001b[1;31m#Now we plot 2D after ISOMAP...\u001b[0m\u001b[1;33m\u001b[0m\u001b[1;33m\u001b[0m\u001b[1;33m\u001b[0m\u001b[0m\n\u001b[0;32m     11\u001b[0m \u001b[0max\u001b[0m\u001b[1;33m.\u001b[0m\u001b[0mset_title\u001b[0m\u001b[1;33m(\u001b[0m\u001b[1;34m'When compressing with ISOMAP'\u001b[0m\u001b[1;33m,\u001b[0m \u001b[0mfontsize\u001b[0m\u001b[1;33m=\u001b[0m\u001b[1;36m10\u001b[0m\u001b[1;33m)\u001b[0m\u001b[1;33m\u001b[0m\u001b[1;33m\u001b[0m\u001b[0m\n\u001b[1;32m---> 12\u001b[1;33m \u001b[0max\u001b[0m\u001b[1;33m.\u001b[0m\u001b[0mscatter\u001b[0m\u001b[1;33m(\u001b[0m\u001b[0mmanifold_iso_data\u001b[0m\u001b[1;33m[\u001b[0m\u001b[1;33m:\u001b[0m\u001b[1;33m,\u001b[0m\u001b[1;36m0\u001b[0m\u001b[1;33m]\u001b[0m\u001b[1;33m,\u001b[0m\u001b[0mmanifold_iso_data\u001b[0m\u001b[1;33m[\u001b[0m\u001b[1;33m:\u001b[0m\u001b[1;33m,\u001b[0m\u001b[1;36m1\u001b[0m\u001b[1;33m]\u001b[0m\u001b[1;33m,\u001b[0m\u001b[0mc\u001b[0m \u001b[1;33m=\u001b[0m \u001b[0mcolor\u001b[0m\u001b[1;33m,\u001b[0m\u001b[0mcmap\u001b[0m\u001b[1;33m=\u001b[0m\u001b[1;34m\"Accent\"\u001b[0m\u001b[1;33m,\u001b[0m\u001b[0ms\u001b[0m\u001b[1;33m=\u001b[0m\u001b[1;36m60\u001b[0m\u001b[1;33m)\u001b[0m\u001b[1;33m\u001b[0m\u001b[1;33m\u001b[0m\u001b[0m\n\u001b[0m\u001b[0;32m     13\u001b[0m \u001b[0mx\u001b[0m \u001b[1;33m=\u001b[0m \u001b[0mX\u001b[0m\u001b[1;33m[\u001b[0m\u001b[1;33m:\u001b[0m\u001b[1;33m,\u001b[0m\u001b[1;36m0\u001b[0m\u001b[1;33m]\u001b[0m\u001b[1;33m[\u001b[0m\u001b[1;36m2\u001b[0m\u001b[1;33m:\u001b[0m\u001b[1;36m2500\u001b[0m\u001b[1;33m]\u001b[0m\u001b[1;31m#Now we plot the same 'black' samples, after ISOMAP in 2D and observe the distance in 2D.\u001b[0m\u001b[1;33m\u001b[0m\u001b[1;33m\u001b[0m\u001b[0m\n\u001b[0;32m     14\u001b[0m \u001b[0my\u001b[0m \u001b[1;33m=\u001b[0m \u001b[0mX\u001b[0m\u001b[1;33m[\u001b[0m\u001b[1;33m:\u001b[0m\u001b[1;33m,\u001b[0m\u001b[1;36m1\u001b[0m\u001b[1;33m]\u001b[0m\u001b[1;33m[\u001b[0m\u001b[1;36m2\u001b[0m\u001b[1;33m:\u001b[0m\u001b[1;36m2500\u001b[0m\u001b[1;33m]\u001b[0m\u001b[1;33m\u001b[0m\u001b[1;33m\u001b[0m\u001b[0m\n",
      "\u001b[1;31mNameError\u001b[0m: name 'manifold_iso_data' is not defined"
     ]
    },
    {
     "data": {
      "image/png": "[encoded data removed]",
      "text/plain": [
       "<Figure size 1440x720 with 2 Axes>"
      ]
     },
     "metadata": {
      "needs_background": "light"
     },
     "output_type": "display_data"
    }
   ],
   "source": [
    "fig = plt.figure(figsize=(20,10))\n",
    "ax = fig.add_subplot(2, 1, 1,projection='3d')\n",
    "ax.set_title('Here is the swiss roll maniflod', fontsize=10)\n",
    "ax.scatter(X[:,0],X[:,1],X[:,2],c = color,cmap=\"Accent\",s=60)\n",
    "x = X[:,0][2:2500] \n",
    "y = X[:,1][2:2500] # Just as abovve, this time for column 1\n",
    "ax.scatter(x,y,c = \"black\") #Now we randomly plot this in both 3D manifold (this may not be clearly visible as the  existing\n",
    "ax.plot(x[2:4],y[2:4],c = \"red\")\n",
    "ax = fig.add_subplot(2, 1, 2) \n",
    "#Now we plot 2D after ISOMAP...\n",
    "ax.set_title('When compressing with ISOMAP', fontsize=10)\n",
    "ax.scatter(manifold_iso_data[:,0],manifold_iso_data[:,1],c = color,cmap=\"Accent\",s=60)\n",
    "x = X[:,0][2:2500]#Now we plot the same 'black' samples, after ISOMAP in 2D and observe the distance in 2D.\n",
    "y = X[:,1][2:2500]\n",
    "ax.scatter(x,y,c = \"black\")\n",
    "ax.plot(x[2:4],y[2:4],c = \"red\")\n",
    "plt.show()"
   ]
  },
  {
   "cell_type": "code",
   "execution_count": null,
   "id": "c18d4998-b086-4c06-b2f1-a0fcbc6f3e77",
   "metadata": {},
   "outputs": [],
   "source": [
    "#print(f'scale: {ch30_scale}, offset: {ch30_offset}')"
   ]
  },
  {
   "cell_type": "code",
   "execution_count": null,
   "id": "eaa428d7-7e3e-47a6-90e8-cc71d2ddbdfe",
   "metadata": {},
   "outputs": [],
   "source": [
    "# Subset data. check  https://hdfeos.org/zoo/index_openLAADS_Examples.php\n",
    "#data = data_raw[0,:,:].astype(np.double)\n",
    "#np.shape(data)"
   ]
  },
  {
   "cell_type": "code",
   "execution_count": null,
   "id": "97a76ccc-b149-4cca-9c2e-0984e0f24229",
   "metadata": {},
   "outputs": [],
   "source": [
    "#debo trabajar con radiances o q?"
   ]
  },
  {
   "cell_type": "code",
   "execution_count": null,
   "id": "424a9a35-dde6-4d4c-891d-7a137104c446",
   "metadata": {},
   "outputs": [],
   "source": [
    "https://oceancolor.gsfc.nasa.gov/forum/oceancolor/topic_show.pl?tid=1049  #info about lat,lon\n",
    "    https://stackoverflow.com/questions/29135885/netcdf4-extract-for-subset-of-lat-lon"
   ]
  },
  {
   "cell_type": "code",
   "execution_count": null,
   "id": "b8ce8f3b-7f84-409a-9001-4cda02d25d0e",
   "metadata": {},
   "outputs": [],
   "source": [
    "#PCA\n",
    "https://www.sciencedirect.com/science/article/abs/pii/S0957417420301020\n",
    "    https://link.springer.com/article/10.1007/s12524-018-0803-1  #'GET THE PAPER'++\n",
    "        \n",
    "        https://medium.com/analytics-vidhya/principal-component-analysis-pca-with-code-on-mnist-dataset-da7de0d07c22 #reader"
   ]
  },
  {
   "cell_type": "code",
   "execution_count": null,
   "id": "76612ce5-6359-434f-a223-2dac4c8e2a1d",
   "metadata": {},
   "outputs": [],
   "source": [
    "# more pca https://www.kaggle.com/akhileshrai/intro-cnn-pytorch-pca-tnse-isomap"
   ]
  },
  {
   "cell_type": "code",
   "execution_count": null,
   "id": "024565c7-7334-4d9a-988a-61550d96e369",
   "metadata": {},
   "outputs": [],
   "source": [
    "https://towardsdatascience.com/principal-component-analysis-in-depth-understanding-through-image-visualization-892922f77d9f"
   ]
  },
  {
   "cell_type": "code",
   "execution_count": null,
   "id": "7080cc71-a45d-45ad-ad94-46f4b921b7cd",
   "metadata": {},
   "outputs": [],
   "source": [
    "    https://notebook.community/dennissergeev/classcode/notebooks/01_MODIS_L1B\n",
    "    http://colah.github.io/posts/2014-10-Visualizing-MNIST/"
   ]
  },
  {
   "cell_type": "code",
   "execution_count": null,
   "id": "b920321c-3c86-46f8-9f4f-9fa809debdbf",
   "metadata": {},
   "outputs": [],
   "source": [
    "https://www.earthdatascience.org/courses/use-data-open-source-python/multispectral-remote-sensing/modis-data-in-python/\n",
    "    https://towardsdatascience.com/pca-with-numpy-58917c1d0391\n",
    "    https://towardsdatascience.com/dimensionality-reduction-of-a-color-photo-splitting-into-rgb-channels-using-pca-algorithm-in-python-ba01580a1118\n",
    "        https://jakevdp.github.io/PythonDataScienceHandbook/04.07-customizing-colorbars.html\n",
    "            https://ccplot.org/pub/resources/Aqua/MODIS%20Level%201B%20Product%20User%20Guide.pdf\n",
    "                https://modis.gsfc.nasa.gov/about/specifications.php"
   ]
  },
  {
   "cell_type": "code",
   "execution_count": null,
   "id": "f4676844-b71e-4933-9771-4da6bb321147",
   "metadata": {},
   "outputs": [],
   "source": [
    "Histograma https://www.geeksforgeeks.org/plot-2-d-histogram-in-python-using-matplotlib/"
   ]
  },
  {
   "cell_type": "markdown",
   "id": "c998df7b-da2b-4cf6-af40-ed0d22c8e456",
   "metadata": {},
   "source": [
    "https://www.youtube.com/watch?v=g-Hb26agBFg\n"
   ]
  },
  {
   "cell_type": "code",
   "execution_count": null,
   "id": "e0612a83-f1f0-479f-a732-e2679172756f",
   "metadata": {},
   "outputs": [],
   "source": [
    "https://github.com/Sunjjjjjj/AAI_simulator_py2/blob/master/MODIS_rgb.py\n",
    "    https://github.com/Sunjjjjjj/AAI_simulator_py2/blob/master/MODIS_combine.py\n",
    "        https://github.com/Sunjjjjjj/AAI_simulator_py2/blob/master/MODIS_wget.py"
   ]
  },
  {
   "cell_type": "code",
   "execution_count": null,
   "id": "b96698f7-0b0b-44ec-9682-835561bc4bc3",
   "metadata": {},
   "outputs": [],
   "source": [
    "!ncks -d Longitude,4.5.,14.496. -d Latitude,47.5.,47.5.  MYD021KM.A2013122.1140.061.2018046032403.hdf  subset_MYD021KM.A2013122.1140.061.2018046032403.hdf\n"
   ]
  },
  {
   "cell_type": "code",
   "execution_count": null,
   "id": "66443292-9af2-4dfb-8e66-65ef4f650d59",
   "metadata": {},
   "outputs": [],
   "source": [
    "!ncdump -h MYD021KM.A2013122.1140.061.2018046032403.hdf\n"
   ]
  },
  {
   "cell_type": "code",
   "execution_count": null,
   "id": "906d56dc-4c93-4525-a1df-d2fa58142ee4",
   "metadata": {},
   "outputs": [],
   "source": [
    "np.shape(latitude)\n",
    "plt.scatter(latitude[0], latitude[1], alpha=0.5)\n",
    "plt.title('Scatter plot latitude')\n",
    "plt.xlabel('x')\n",
    "plt.ylabel('y')\n",
    "plt.show()"
   ]
  },
  {
   "cell_type": "code",
   "execution_count": null,
   "id": "c8fa4a7c-7937-43f8-9101-0f55675305a9",
   "metadata": {},
   "outputs": [],
   "source": [
    "https://av.tib.eu/media/15573  conda install -c hcc pymodis #http://www.pymodis.org/\n",
    "\n",
    "info https://modaps.modaps.eosdis.nasa.gov/services/about/product_descriptions_aqua.html\n",
    "https://bpostance.github.io/posts/working-with-MODIS-data/\n",
    "mdois geo https://www.icare.univ-lille.fr/modis-geolocation/"
   ]
  },
  {
   "cell_type": "code",
   "execution_count": null,
   "id": "567cb63b-b916-4939-b475-b9f5ecbc54c0",
   "metadata": {},
   "outputs": [],
   "source": [
    "#check then, \n",
    "# Generate Paiplot for original data and transformed PCs\n",
    "import seaborn as sns\n",
    "import pandas as pd\n",
    "\n",
    "Bandnames = ['Band 20','Band 21','Band 22','Band 23','Band 24','Band 25','Band 27','Band 28','Band 29','Band 30','Band 31','Band 32','Band 33','Band 34','Band 35','Band 36']\n",
    "a = sns.pairplot(pd.DataFrame(MB_matrix,\n",
    "                columns = Bandnames),\n",
    "                 diag_kind='kde',plot_kws={\"s\": 3})\n",
    "a.fig.suptitle(\"Pair plot of Band images\")\n",
    "\n",
    "PCnames = ['PC 1','PC 2','PC 3','PC 4','PC 5','PC 6','PC 7','PC 8','PC 9','PC 10','PC 11','PC 12','PC 13','PC 14','PC 15','PC 16']\n",
    "b = sns.pairplot(pd.DataFrame(PC,\n",
    "                columns = PCnames),\n",
    "                 diag_kind='kde',plot_kws={\"s\": 3})\n",
    "b.fig.suptitle(\"Pair plot of PCs\")\n",
    "\n",
    "#check the names to do automatically"
   ]
  }
 ],
 "metadata": {
  "kernelspec": {
   "display_name": "Python 3",
   "language": "python",
   "name": "python3"
  },
  "language_info": {
   "codemirror_mode": {
    "name": "ipython",
    "version": 3
   },
   "file_extension": ".py",
   "mimetype": "text/x-python",
   "name": "python",
   "nbconvert_exporter": "python",
   "pygments_lexer": "ipython3",
   "version": "3.8.11"
  }
 },
 "nbformat": 4,
 "nbformat_minor": 5
}
